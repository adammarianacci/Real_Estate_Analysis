{
 "cells": [
  {
   "cell_type": "markdown",
   "metadata": {},
   "source": [
    "# Introduction\n",
    "\n",
    "## Final Project Submission\n",
    "\n",
    "***\n",
    "- Student Name: Adam Marianacci\n",
    "- Student Pace: Flex\n",
    "- Scheduled project review date/time: TBD\n",
    "- Instructor Name: Morgan Jones"
   ]
  },
  {
   "cell_type": "markdown",
   "metadata": {},
   "source": [
    "# Business Understanding"
   ]
  },
  {
   "cell_type": "markdown",
   "metadata": {},
   "source": [
    "Coldwell Banker wants to buy undervalued homes in certain zipcodes to minimally renovate and sell for a profit. It is my job to find homes that are being listed significanty lower than the median price and look into what variables are causing these lowered prices so that I can properly advise Coldwell Banker on which homes to target. "
   ]
  },
  {
   "cell_type": "markdown",
   "metadata": {},
   "source": [
    "# Data Understanding"
   ]
  },
  {
   "cell_type": "markdown",
   "metadata": {},
   "source": [
    "This project uses the King County House Sales dataset. It contains over 30,000 entries of data related to the sale price of houses, number of bedrooms,bathrooms and floors, square footage, addresses, and more. The main dataframe used in this project only contained roughly 14,000 entries. A limitation of the data was that it is fairly small since we are dealing with predictive modeling. Also the features of the data were strongly correlated with each other (multicolinearity) rather than the target variable. The dataset is suitable for this project because it has information to reveal which homes are truly being undervalued in certain zipcodes. After analyzing the price, location, and other various specifications and amenities of homes I will be able to make informed recommendations to the real estate agency."
   ]
  },
  {
   "cell_type": "markdown",
   "metadata": {},
   "source": [
    "# Data Preperation"
   ]
  },
  {
   "cell_type": "markdown",
   "metadata": {},
   "source": [
    "I started by importing the necessary libraries."
   ]
  },
  {
   "cell_type": "code",
   "execution_count": 1,
   "metadata": {},
   "outputs": [],
   "source": [
    "import pandas as pd\n",
    "import re\n",
    "import numpy as np\n",
    "from sklearn import linear_model\n",
    "from sklearn.feature_selection import RFE\n",
    "from sklearn.tree import DecisionTreeClassifier\n",
    "from sklearn.model_selection import train_test_split\n",
    "from sklearn.linear_model import LinearRegression\n",
    "from sklearn.preprocessing import OneHotEncoder\n",
    "from sklearn.metrics import r2_score, mean_squared_error, mean_absolute_error\n",
    "import seaborn as sns\n",
    "import matplotlib.pyplot as plt\n",
    "import statsmodels.api as sm\n",
    "import scipy.stats as stats\n",
    "import warnings\n",
    "warnings.filterwarnings('ignore')"
   ]
  },
  {
   "cell_type": "markdown",
   "metadata": {},
   "source": [
    "I did not want any information in the dataframe to be truncated. I searched `pandas output truncated` in google and found this [solution](https://stackoverflow.com/questions/25351968/how-can-i-display-full-non-truncated-dataframe-information-in-html-when-conver)."
   ]
  },
  {
   "cell_type": "code",
   "execution_count": 2,
   "metadata": {},
   "outputs": [],
   "source": [
    "pd.set_option(\"max_columns\", None) # show all cols\n",
    "pd.set_option('max_colwidth', None) # show full width of showing cols\n",
    "pd.set_option(\"expand_frame_repr\", False) # print cols side by side as it's supposed to be\n",
    "pd.set_option('display.max_rows', 500) #show all rows\n",
    "pd.options.display.float_format = '{:.2f}'.format #surpressing scientific notation"
   ]
  },
  {
   "cell_type": "code",
   "execution_count": 3,
   "metadata": {},
   "outputs": [],
   "source": [
    "# Loading the dataframe\n",
    "kc_house_data_df = pd.read_csv('data/kc_house_data.csv', index_col=0)"
   ]
  },
  {
   "cell_type": "code",
   "execution_count": 4,
   "metadata": {},
   "outputs": [
    {
     "data": {
      "text/html": [
       "<div>\n",
       "<style scoped>\n",
       "    .dataframe tbody tr th:only-of-type {\n",
       "        vertical-align: middle;\n",
       "    }\n",
       "\n",
       "    .dataframe tbody tr th {\n",
       "        vertical-align: top;\n",
       "    }\n",
       "\n",
       "    .dataframe thead th {\n",
       "        text-align: right;\n",
       "    }\n",
       "</style>\n",
       "<table border=\"1\" class=\"dataframe\">\n",
       "  <thead>\n",
       "    <tr style=\"text-align: right;\">\n",
       "      <th></th>\n",
       "      <th>date</th>\n",
       "      <th>price</th>\n",
       "      <th>bedrooms</th>\n",
       "      <th>bathrooms</th>\n",
       "      <th>sqft_living</th>\n",
       "      <th>sqft_lot</th>\n",
       "      <th>floors</th>\n",
       "      <th>waterfront</th>\n",
       "      <th>greenbelt</th>\n",
       "      <th>nuisance</th>\n",
       "      <th>view</th>\n",
       "      <th>condition</th>\n",
       "      <th>grade</th>\n",
       "      <th>heat_source</th>\n",
       "      <th>sewer_system</th>\n",
       "      <th>sqft_above</th>\n",
       "      <th>sqft_basement</th>\n",
       "      <th>sqft_garage</th>\n",
       "      <th>sqft_patio</th>\n",
       "      <th>yr_built</th>\n",
       "      <th>yr_renovated</th>\n",
       "      <th>address</th>\n",
       "      <th>lat</th>\n",
       "      <th>long</th>\n",
       "    </tr>\n",
       "    <tr>\n",
       "      <th>id</th>\n",
       "      <th></th>\n",
       "      <th></th>\n",
       "      <th></th>\n",
       "      <th></th>\n",
       "      <th></th>\n",
       "      <th></th>\n",
       "      <th></th>\n",
       "      <th></th>\n",
       "      <th></th>\n",
       "      <th></th>\n",
       "      <th></th>\n",
       "      <th></th>\n",
       "      <th></th>\n",
       "      <th></th>\n",
       "      <th></th>\n",
       "      <th></th>\n",
       "      <th></th>\n",
       "      <th></th>\n",
       "      <th></th>\n",
       "      <th></th>\n",
       "      <th></th>\n",
       "      <th></th>\n",
       "      <th></th>\n",
       "      <th></th>\n",
       "    </tr>\n",
       "  </thead>\n",
       "  <tbody>\n",
       "    <tr>\n",
       "      <th>7399300360</th>\n",
       "      <td>5/24/2022</td>\n",
       "      <td>675000.00</td>\n",
       "      <td>4</td>\n",
       "      <td>1.00</td>\n",
       "      <td>1180</td>\n",
       "      <td>7140</td>\n",
       "      <td>1.00</td>\n",
       "      <td>NO</td>\n",
       "      <td>NO</td>\n",
       "      <td>NO</td>\n",
       "      <td>NONE</td>\n",
       "      <td>Good</td>\n",
       "      <td>7 Average</td>\n",
       "      <td>Gas</td>\n",
       "      <td>PUBLIC</td>\n",
       "      <td>1180</td>\n",
       "      <td>0</td>\n",
       "      <td>0</td>\n",
       "      <td>40</td>\n",
       "      <td>1969</td>\n",
       "      <td>0</td>\n",
       "      <td>2102 Southeast 21st Court, Renton, Washington 98055, United States</td>\n",
       "      <td>47.46</td>\n",
       "      <td>-122.19</td>\n",
       "    </tr>\n",
       "    <tr>\n",
       "      <th>8910500230</th>\n",
       "      <td>12/13/2021</td>\n",
       "      <td>920000.00</td>\n",
       "      <td>5</td>\n",
       "      <td>2.50</td>\n",
       "      <td>2770</td>\n",
       "      <td>6703</td>\n",
       "      <td>1.00</td>\n",
       "      <td>NO</td>\n",
       "      <td>NO</td>\n",
       "      <td>YES</td>\n",
       "      <td>AVERAGE</td>\n",
       "      <td>Average</td>\n",
       "      <td>7 Average</td>\n",
       "      <td>Oil</td>\n",
       "      <td>PUBLIC</td>\n",
       "      <td>1570</td>\n",
       "      <td>1570</td>\n",
       "      <td>0</td>\n",
       "      <td>240</td>\n",
       "      <td>1950</td>\n",
       "      <td>0</td>\n",
       "      <td>11231 Greenwood Avenue North, Seattle, Washington 98133, United States</td>\n",
       "      <td>47.71</td>\n",
       "      <td>-122.36</td>\n",
       "    </tr>\n",
       "    <tr>\n",
       "      <th>1180000275</th>\n",
       "      <td>9/29/2021</td>\n",
       "      <td>311000.00</td>\n",
       "      <td>6</td>\n",
       "      <td>2.00</td>\n",
       "      <td>2880</td>\n",
       "      <td>6156</td>\n",
       "      <td>1.00</td>\n",
       "      <td>NO</td>\n",
       "      <td>NO</td>\n",
       "      <td>NO</td>\n",
       "      <td>AVERAGE</td>\n",
       "      <td>Average</td>\n",
       "      <td>7 Average</td>\n",
       "      <td>Gas</td>\n",
       "      <td>PUBLIC</td>\n",
       "      <td>1580</td>\n",
       "      <td>1580</td>\n",
       "      <td>0</td>\n",
       "      <td>0</td>\n",
       "      <td>1956</td>\n",
       "      <td>0</td>\n",
       "      <td>8504 South 113th Street, Seattle, Washington 98178, United States</td>\n",
       "      <td>47.50</td>\n",
       "      <td>-122.23</td>\n",
       "    </tr>\n",
       "    <tr>\n",
       "      <th>1604601802</th>\n",
       "      <td>12/14/2021</td>\n",
       "      <td>775000.00</td>\n",
       "      <td>3</td>\n",
       "      <td>3.00</td>\n",
       "      <td>2160</td>\n",
       "      <td>1400</td>\n",
       "      <td>2.00</td>\n",
       "      <td>NO</td>\n",
       "      <td>NO</td>\n",
       "      <td>NO</td>\n",
       "      <td>AVERAGE</td>\n",
       "      <td>Average</td>\n",
       "      <td>9 Better</td>\n",
       "      <td>Gas</td>\n",
       "      <td>PUBLIC</td>\n",
       "      <td>1090</td>\n",
       "      <td>1070</td>\n",
       "      <td>200</td>\n",
       "      <td>270</td>\n",
       "      <td>2010</td>\n",
       "      <td>0</td>\n",
       "      <td>4079 Letitia Avenue South, Seattle, Washington 98118, United States</td>\n",
       "      <td>47.57</td>\n",
       "      <td>-122.29</td>\n",
       "    </tr>\n",
       "    <tr>\n",
       "      <th>8562780790</th>\n",
       "      <td>8/24/2021</td>\n",
       "      <td>592500.00</td>\n",
       "      <td>2</td>\n",
       "      <td>2.00</td>\n",
       "      <td>1120</td>\n",
       "      <td>758</td>\n",
       "      <td>2.00</td>\n",
       "      <td>NO</td>\n",
       "      <td>NO</td>\n",
       "      <td>YES</td>\n",
       "      <td>NONE</td>\n",
       "      <td>Average</td>\n",
       "      <td>7 Average</td>\n",
       "      <td>Electricity</td>\n",
       "      <td>PUBLIC</td>\n",
       "      <td>1120</td>\n",
       "      <td>550</td>\n",
       "      <td>550</td>\n",
       "      <td>30</td>\n",
       "      <td>2012</td>\n",
       "      <td>0</td>\n",
       "      <td>2193 Northwest Talus Drive, Issaquah, Washington 98027, United States</td>\n",
       "      <td>47.53</td>\n",
       "      <td>-122.07</td>\n",
       "    </tr>\n",
       "  </tbody>\n",
       "</table>\n",
       "</div>"
      ],
      "text/plain": [
       "                  date     price  bedrooms  bathrooms  sqft_living  sqft_lot  floors waterfront greenbelt nuisance     view condition      grade  heat_source sewer_system  sqft_above  sqft_basement  sqft_garage  sqft_patio  yr_built  yr_renovated                                                                 address   lat    long\n",
       "id                                                                                                                                                                                                                                                                                                                                          \n",
       "7399300360   5/24/2022 675000.00         4       1.00         1180      7140    1.00         NO        NO       NO     NONE      Good  7 Average          Gas       PUBLIC        1180              0            0          40      1969             0      2102 Southeast 21st Court, Renton, Washington 98055, United States 47.46 -122.19\n",
       "8910500230  12/13/2021 920000.00         5       2.50         2770      6703    1.00         NO        NO      YES  AVERAGE   Average  7 Average          Oil       PUBLIC        1570           1570            0         240      1950             0  11231 Greenwood Avenue North, Seattle, Washington 98133, United States 47.71 -122.36\n",
       "1180000275   9/29/2021 311000.00         6       2.00         2880      6156    1.00         NO        NO       NO  AVERAGE   Average  7 Average          Gas       PUBLIC        1580           1580            0           0      1956             0       8504 South 113th Street, Seattle, Washington 98178, United States 47.50 -122.23\n",
       "1604601802  12/14/2021 775000.00         3       3.00         2160      1400    2.00         NO        NO       NO  AVERAGE   Average   9 Better          Gas       PUBLIC        1090           1070          200         270      2010             0     4079 Letitia Avenue South, Seattle, Washington 98118, United States 47.57 -122.29\n",
       "8562780790   8/24/2021 592500.00         2       2.00         1120       758    2.00         NO        NO      YES     NONE   Average  7 Average  Electricity       PUBLIC        1120            550          550          30      2012             0   2193 Northwest Talus Drive, Issaquah, Washington 98027, United States 47.53 -122.07"
      ]
     },
     "execution_count": 4,
     "metadata": {},
     "output_type": "execute_result"
    }
   ],
   "source": [
    "# Previewing the dataframe\n",
    "kc_house_data_df.head()"
   ]
  },
  {
   "cell_type": "markdown",
   "metadata": {},
   "source": [
    "There are 24 columns and 30155 entries. There is only a handful of missing values in the \"heat_source\" and \"sewer_system\" columns. The data types consist of objects, integers, and floats."
   ]
  },
  {
   "cell_type": "code",
   "execution_count": 5,
   "metadata": {},
   "outputs": [
    {
     "name": "stdout",
     "output_type": "stream",
     "text": [
      "<class 'pandas.core.frame.DataFrame'>\n",
      "Int64Index: 30155 entries, 7399300360 to 9557800100\n",
      "Data columns (total 24 columns):\n",
      " #   Column         Non-Null Count  Dtype  \n",
      "---  ------         --------------  -----  \n",
      " 0   date           30155 non-null  object \n",
      " 1   price          30155 non-null  float64\n",
      " 2   bedrooms       30155 non-null  int64  \n",
      " 3   bathrooms      30155 non-null  float64\n",
      " 4   sqft_living    30155 non-null  int64  \n",
      " 5   sqft_lot       30155 non-null  int64  \n",
      " 6   floors         30155 non-null  float64\n",
      " 7   waterfront     30155 non-null  object \n",
      " 8   greenbelt      30155 non-null  object \n",
      " 9   nuisance       30155 non-null  object \n",
      " 10  view           30155 non-null  object \n",
      " 11  condition      30155 non-null  object \n",
      " 12  grade          30155 non-null  object \n",
      " 13  heat_source    30123 non-null  object \n",
      " 14  sewer_system   30141 non-null  object \n",
      " 15  sqft_above     30155 non-null  int64  \n",
      " 16  sqft_basement  30155 non-null  int64  \n",
      " 17  sqft_garage    30155 non-null  int64  \n",
      " 18  sqft_patio     30155 non-null  int64  \n",
      " 19  yr_built       30155 non-null  int64  \n",
      " 20  yr_renovated   30155 non-null  int64  \n",
      " 21  address        30155 non-null  object \n",
      " 22  lat            30155 non-null  float64\n",
      " 23  long           30155 non-null  float64\n",
      "dtypes: float64(5), int64(9), object(10)\n",
      "memory usage: 5.8+ MB\n"
     ]
    }
   ],
   "source": [
    "# Gathering information about the datatypes within the dataframe,as well as looking for missing values\n",
    "kc_house_data_df.info()"
   ]
  },
  {
   "cell_type": "markdown",
   "metadata": {},
   "source": [
    "I wanted to confirm and see clearly how many missing values there were in each column."
   ]
  },
  {
   "cell_type": "code",
   "execution_count": 6,
   "metadata": {
    "scrolled": true
   },
   "outputs": [
    {
     "data": {
      "text/plain": [
       "date              0\n",
       "price             0\n",
       "bedrooms          0\n",
       "bathrooms         0\n",
       "sqft_living       0\n",
       "sqft_lot          0\n",
       "floors            0\n",
       "waterfront        0\n",
       "greenbelt         0\n",
       "nuisance          0\n",
       "view              0\n",
       "condition         0\n",
       "grade             0\n",
       "heat_source      32\n",
       "sewer_system     14\n",
       "sqft_above        0\n",
       "sqft_basement     0\n",
       "sqft_garage       0\n",
       "sqft_patio        0\n",
       "yr_built          0\n",
       "yr_renovated      0\n",
       "address           0\n",
       "lat               0\n",
       "long              0\n",
       "dtype: int64"
      ]
     },
     "execution_count": 6,
     "metadata": {},
     "output_type": "execute_result"
    }
   ],
   "source": [
    "kc_house_data_df.isnull().sum()"
   ]
  },
  {
   "cell_type": "markdown",
   "metadata": {},
   "source": [
    "Since there were only 32 missing values from \"heat_source\" and 14 missing values from \"sewer_system\" out of 30,155 entries, I decided to remove the rows that contained missing values. I typed `remove rows that contain missing values in a  pandas df` into google and found this [solution](https://stackoverflow.com/questions/13413590/how-to-drop-rows-of-pandas-dataframe-whose-value-in-a-certain-column-is-nan)."
   ]
  },
  {
   "cell_type": "code",
   "execution_count": 7,
   "metadata": {},
   "outputs": [],
   "source": [
    "kc_house_data_df = kc_house_data_df.dropna(subset = [\"heat_source\", \"sewer_system\",])"
   ]
  },
  {
   "cell_type": "markdown",
   "metadata": {},
   "source": [
    "Checking to see if my code worked, there are no more missing values."
   ]
  },
  {
   "cell_type": "code",
   "execution_count": 8,
   "metadata": {},
   "outputs": [
    {
     "name": "stdout",
     "output_type": "stream",
     "text": [
      "<class 'pandas.core.frame.DataFrame'>\n",
      "Int64Index: 30111 entries, 7399300360 to 9557800100\n",
      "Data columns (total 24 columns):\n",
      " #   Column         Non-Null Count  Dtype  \n",
      "---  ------         --------------  -----  \n",
      " 0   date           30111 non-null  object \n",
      " 1   price          30111 non-null  float64\n",
      " 2   bedrooms       30111 non-null  int64  \n",
      " 3   bathrooms      30111 non-null  float64\n",
      " 4   sqft_living    30111 non-null  int64  \n",
      " 5   sqft_lot       30111 non-null  int64  \n",
      " 6   floors         30111 non-null  float64\n",
      " 7   waterfront     30111 non-null  object \n",
      " 8   greenbelt      30111 non-null  object \n",
      " 9   nuisance       30111 non-null  object \n",
      " 10  view           30111 non-null  object \n",
      " 11  condition      30111 non-null  object \n",
      " 12  grade          30111 non-null  object \n",
      " 13  heat_source    30111 non-null  object \n",
      " 14  sewer_system   30111 non-null  object \n",
      " 15  sqft_above     30111 non-null  int64  \n",
      " 16  sqft_basement  30111 non-null  int64  \n",
      " 17  sqft_garage    30111 non-null  int64  \n",
      " 18  sqft_patio     30111 non-null  int64  \n",
      " 19  yr_built       30111 non-null  int64  \n",
      " 20  yr_renovated   30111 non-null  int64  \n",
      " 21  address        30111 non-null  object \n",
      " 22  lat            30111 non-null  float64\n",
      " 23  long           30111 non-null  float64\n",
      "dtypes: float64(5), int64(9), object(10)\n",
      "memory usage: 5.7+ MB\n"
     ]
    }
   ],
   "source": [
    "kc_house_data_df.info()"
   ]
  },
  {
   "cell_type": "markdown",
   "metadata": {},
   "source": [
    "\"Lat\", \"Long\", did not seem relevant since I am looking into zipcodes. I dropped them from the dataframe to simplify and condense the df."
   ]
  },
  {
   "cell_type": "code",
   "execution_count": 9,
   "metadata": {},
   "outputs": [],
   "source": [
    "kc_house_data_df.drop(['lat', 'long',], axis=1, inplace=True)"
   ]
  },
  {
   "cell_type": "markdown",
   "metadata": {},
   "source": [
    "I wanted to extract zipcodes from addresses so I searched `extracting zipcodes from addresses in python` and found this [solution](https://stackoverflow.com/questions/66384707/extracting-zip-code-from-a-string-with-full-address)."
   ]
  },
  {
   "cell_type": "code",
   "execution_count": 10,
   "metadata": {},
   "outputs": [],
   "source": [
    "def extract_zipcode(address):\n",
    "    zipcode = re.search(r'\\b\\d{5}\\b', address)\n",
    "    if zipcode:\n",
    "        return zipcode.group(0)\n",
    "    else:\n",
    "        return None\n",
    "\n",
    "# Create the \"Zip Code\" column by applying the function to the \"address\" column\n",
    "kc_house_data_df['Zip Code'] = kc_house_data_df['address'].apply(extract_zipcode)"
   ]
  },
  {
   "cell_type": "code",
   "execution_count": 11,
   "metadata": {},
   "outputs": [
    {
     "data": {
      "text/html": [
       "<div>\n",
       "<style scoped>\n",
       "    .dataframe tbody tr th:only-of-type {\n",
       "        vertical-align: middle;\n",
       "    }\n",
       "\n",
       "    .dataframe tbody tr th {\n",
       "        vertical-align: top;\n",
       "    }\n",
       "\n",
       "    .dataframe thead th {\n",
       "        text-align: right;\n",
       "    }\n",
       "</style>\n",
       "<table border=\"1\" class=\"dataframe\">\n",
       "  <thead>\n",
       "    <tr style=\"text-align: right;\">\n",
       "      <th></th>\n",
       "      <th>date</th>\n",
       "      <th>price</th>\n",
       "      <th>bedrooms</th>\n",
       "      <th>bathrooms</th>\n",
       "      <th>sqft_living</th>\n",
       "      <th>sqft_lot</th>\n",
       "      <th>floors</th>\n",
       "      <th>waterfront</th>\n",
       "      <th>greenbelt</th>\n",
       "      <th>nuisance</th>\n",
       "      <th>view</th>\n",
       "      <th>condition</th>\n",
       "      <th>grade</th>\n",
       "      <th>heat_source</th>\n",
       "      <th>sewer_system</th>\n",
       "      <th>sqft_above</th>\n",
       "      <th>sqft_basement</th>\n",
       "      <th>sqft_garage</th>\n",
       "      <th>sqft_patio</th>\n",
       "      <th>yr_built</th>\n",
       "      <th>yr_renovated</th>\n",
       "      <th>address</th>\n",
       "      <th>Zip Code</th>\n",
       "    </tr>\n",
       "    <tr>\n",
       "      <th>id</th>\n",
       "      <th></th>\n",
       "      <th></th>\n",
       "      <th></th>\n",
       "      <th></th>\n",
       "      <th></th>\n",
       "      <th></th>\n",
       "      <th></th>\n",
       "      <th></th>\n",
       "      <th></th>\n",
       "      <th></th>\n",
       "      <th></th>\n",
       "      <th></th>\n",
       "      <th></th>\n",
       "      <th></th>\n",
       "      <th></th>\n",
       "      <th></th>\n",
       "      <th></th>\n",
       "      <th></th>\n",
       "      <th></th>\n",
       "      <th></th>\n",
       "      <th></th>\n",
       "      <th></th>\n",
       "      <th></th>\n",
       "    </tr>\n",
       "  </thead>\n",
       "  <tbody>\n",
       "    <tr>\n",
       "      <th>7399300360</th>\n",
       "      <td>5/24/2022</td>\n",
       "      <td>675000.00</td>\n",
       "      <td>4</td>\n",
       "      <td>1.00</td>\n",
       "      <td>1180</td>\n",
       "      <td>7140</td>\n",
       "      <td>1.00</td>\n",
       "      <td>NO</td>\n",
       "      <td>NO</td>\n",
       "      <td>NO</td>\n",
       "      <td>NONE</td>\n",
       "      <td>Good</td>\n",
       "      <td>7 Average</td>\n",
       "      <td>Gas</td>\n",
       "      <td>PUBLIC</td>\n",
       "      <td>1180</td>\n",
       "      <td>0</td>\n",
       "      <td>0</td>\n",
       "      <td>40</td>\n",
       "      <td>1969</td>\n",
       "      <td>0</td>\n",
       "      <td>2102 Southeast 21st Court, Renton, Washington 98055, United States</td>\n",
       "      <td>98055</td>\n",
       "    </tr>\n",
       "    <tr>\n",
       "      <th>8910500230</th>\n",
       "      <td>12/13/2021</td>\n",
       "      <td>920000.00</td>\n",
       "      <td>5</td>\n",
       "      <td>2.50</td>\n",
       "      <td>2770</td>\n",
       "      <td>6703</td>\n",
       "      <td>1.00</td>\n",
       "      <td>NO</td>\n",
       "      <td>NO</td>\n",
       "      <td>YES</td>\n",
       "      <td>AVERAGE</td>\n",
       "      <td>Average</td>\n",
       "      <td>7 Average</td>\n",
       "      <td>Oil</td>\n",
       "      <td>PUBLIC</td>\n",
       "      <td>1570</td>\n",
       "      <td>1570</td>\n",
       "      <td>0</td>\n",
       "      <td>240</td>\n",
       "      <td>1950</td>\n",
       "      <td>0</td>\n",
       "      <td>11231 Greenwood Avenue North, Seattle, Washington 98133, United States</td>\n",
       "      <td>11231</td>\n",
       "    </tr>\n",
       "    <tr>\n",
       "      <th>1180000275</th>\n",
       "      <td>9/29/2021</td>\n",
       "      <td>311000.00</td>\n",
       "      <td>6</td>\n",
       "      <td>2.00</td>\n",
       "      <td>2880</td>\n",
       "      <td>6156</td>\n",
       "      <td>1.00</td>\n",
       "      <td>NO</td>\n",
       "      <td>NO</td>\n",
       "      <td>NO</td>\n",
       "      <td>AVERAGE</td>\n",
       "      <td>Average</td>\n",
       "      <td>7 Average</td>\n",
       "      <td>Gas</td>\n",
       "      <td>PUBLIC</td>\n",
       "      <td>1580</td>\n",
       "      <td>1580</td>\n",
       "      <td>0</td>\n",
       "      <td>0</td>\n",
       "      <td>1956</td>\n",
       "      <td>0</td>\n",
       "      <td>8504 South 113th Street, Seattle, Washington 98178, United States</td>\n",
       "      <td>98178</td>\n",
       "    </tr>\n",
       "    <tr>\n",
       "      <th>1604601802</th>\n",
       "      <td>12/14/2021</td>\n",
       "      <td>775000.00</td>\n",
       "      <td>3</td>\n",
       "      <td>3.00</td>\n",
       "      <td>2160</td>\n",
       "      <td>1400</td>\n",
       "      <td>2.00</td>\n",
       "      <td>NO</td>\n",
       "      <td>NO</td>\n",
       "      <td>NO</td>\n",
       "      <td>AVERAGE</td>\n",
       "      <td>Average</td>\n",
       "      <td>9 Better</td>\n",
       "      <td>Gas</td>\n",
       "      <td>PUBLIC</td>\n",
       "      <td>1090</td>\n",
       "      <td>1070</td>\n",
       "      <td>200</td>\n",
       "      <td>270</td>\n",
       "      <td>2010</td>\n",
       "      <td>0</td>\n",
       "      <td>4079 Letitia Avenue South, Seattle, Washington 98118, United States</td>\n",
       "      <td>98118</td>\n",
       "    </tr>\n",
       "    <tr>\n",
       "      <th>8562780790</th>\n",
       "      <td>8/24/2021</td>\n",
       "      <td>592500.00</td>\n",
       "      <td>2</td>\n",
       "      <td>2.00</td>\n",
       "      <td>1120</td>\n",
       "      <td>758</td>\n",
       "      <td>2.00</td>\n",
       "      <td>NO</td>\n",
       "      <td>NO</td>\n",
       "      <td>YES</td>\n",
       "      <td>NONE</td>\n",
       "      <td>Average</td>\n",
       "      <td>7 Average</td>\n",
       "      <td>Electricity</td>\n",
       "      <td>PUBLIC</td>\n",
       "      <td>1120</td>\n",
       "      <td>550</td>\n",
       "      <td>550</td>\n",
       "      <td>30</td>\n",
       "      <td>2012</td>\n",
       "      <td>0</td>\n",
       "      <td>2193 Northwest Talus Drive, Issaquah, Washington 98027, United States</td>\n",
       "      <td>98027</td>\n",
       "    </tr>\n",
       "  </tbody>\n",
       "</table>\n",
       "</div>"
      ],
      "text/plain": [
       "                  date     price  bedrooms  bathrooms  sqft_living  sqft_lot  floors waterfront greenbelt nuisance     view condition      grade  heat_source sewer_system  sqft_above  sqft_basement  sqft_garage  sqft_patio  yr_built  yr_renovated                                                                 address Zip Code\n",
       "id                                                                                                                                                                                                                                                                                                                                     \n",
       "7399300360   5/24/2022 675000.00         4       1.00         1180      7140    1.00         NO        NO       NO     NONE      Good  7 Average          Gas       PUBLIC        1180              0            0          40      1969             0      2102 Southeast 21st Court, Renton, Washington 98055, United States    98055\n",
       "8910500230  12/13/2021 920000.00         5       2.50         2770      6703    1.00         NO        NO      YES  AVERAGE   Average  7 Average          Oil       PUBLIC        1570           1570            0         240      1950             0  11231 Greenwood Avenue North, Seattle, Washington 98133, United States    11231\n",
       "1180000275   9/29/2021 311000.00         6       2.00         2880      6156    1.00         NO        NO       NO  AVERAGE   Average  7 Average          Gas       PUBLIC        1580           1580            0           0      1956             0       8504 South 113th Street, Seattle, Washington 98178, United States    98178\n",
       "1604601802  12/14/2021 775000.00         3       3.00         2160      1400    2.00         NO        NO       NO  AVERAGE   Average   9 Better          Gas       PUBLIC        1090           1070          200         270      2010             0     4079 Letitia Avenue South, Seattle, Washington 98118, United States    98118\n",
       "8562780790   8/24/2021 592500.00         2       2.00         1120       758    2.00         NO        NO      YES     NONE   Average  7 Average  Electricity       PUBLIC        1120            550          550          30      2012             0   2193 Northwest Talus Drive, Issaquah, Washington 98027, United States    98027"
      ]
     },
     "execution_count": 11,
     "metadata": {},
     "output_type": "execute_result"
    }
   ],
   "source": [
    "kc_house_data_df.head()"
   ]
  },
  {
   "cell_type": "markdown",
   "metadata": {},
   "source": [
    "After previewing the dataset again I noticed that it was interpreting 5 digit street addresses as zipcodes. To fix this problem I decided to choose the 5 digit numbers after the word \"Washington\"."
   ]
  },
  {
   "cell_type": "code",
   "execution_count": 12,
   "metadata": {},
   "outputs": [],
   "source": [
    "# Function to extract ZIP code after \"Washington\"\n",
    "def extract_zipcode(address):\n",
    "    match = re.search(r'Washington (\\d{5})', address)\n",
    "    if match:\n",
    "        return match.group(1)\n",
    "    return None\n",
    "\n",
    "kc_house_data_df['Zip Code'] = kc_house_data_df['address'].apply(extract_zipcode)"
   ]
  },
  {
   "cell_type": "code",
   "execution_count": 13,
   "metadata": {},
   "outputs": [
    {
     "data": {
      "text/html": [
       "<div>\n",
       "<style scoped>\n",
       "    .dataframe tbody tr th:only-of-type {\n",
       "        vertical-align: middle;\n",
       "    }\n",
       "\n",
       "    .dataframe tbody tr th {\n",
       "        vertical-align: top;\n",
       "    }\n",
       "\n",
       "    .dataframe thead th {\n",
       "        text-align: right;\n",
       "    }\n",
       "</style>\n",
       "<table border=\"1\" class=\"dataframe\">\n",
       "  <thead>\n",
       "    <tr style=\"text-align: right;\">\n",
       "      <th></th>\n",
       "      <th>date</th>\n",
       "      <th>price</th>\n",
       "      <th>bedrooms</th>\n",
       "      <th>bathrooms</th>\n",
       "      <th>sqft_living</th>\n",
       "      <th>sqft_lot</th>\n",
       "      <th>floors</th>\n",
       "      <th>waterfront</th>\n",
       "      <th>greenbelt</th>\n",
       "      <th>nuisance</th>\n",
       "      <th>view</th>\n",
       "      <th>condition</th>\n",
       "      <th>grade</th>\n",
       "      <th>heat_source</th>\n",
       "      <th>sewer_system</th>\n",
       "      <th>sqft_above</th>\n",
       "      <th>sqft_basement</th>\n",
       "      <th>sqft_garage</th>\n",
       "      <th>sqft_patio</th>\n",
       "      <th>yr_built</th>\n",
       "      <th>yr_renovated</th>\n",
       "      <th>address</th>\n",
       "      <th>Zip Code</th>\n",
       "    </tr>\n",
       "    <tr>\n",
       "      <th>id</th>\n",
       "      <th></th>\n",
       "      <th></th>\n",
       "      <th></th>\n",
       "      <th></th>\n",
       "      <th></th>\n",
       "      <th></th>\n",
       "      <th></th>\n",
       "      <th></th>\n",
       "      <th></th>\n",
       "      <th></th>\n",
       "      <th></th>\n",
       "      <th></th>\n",
       "      <th></th>\n",
       "      <th></th>\n",
       "      <th></th>\n",
       "      <th></th>\n",
       "      <th></th>\n",
       "      <th></th>\n",
       "      <th></th>\n",
       "      <th></th>\n",
       "      <th></th>\n",
       "      <th></th>\n",
       "      <th></th>\n",
       "    </tr>\n",
       "  </thead>\n",
       "  <tbody>\n",
       "    <tr>\n",
       "      <th>7399300360</th>\n",
       "      <td>5/24/2022</td>\n",
       "      <td>675000.00</td>\n",
       "      <td>4</td>\n",
       "      <td>1.00</td>\n",
       "      <td>1180</td>\n",
       "      <td>7140</td>\n",
       "      <td>1.00</td>\n",
       "      <td>NO</td>\n",
       "      <td>NO</td>\n",
       "      <td>NO</td>\n",
       "      <td>NONE</td>\n",
       "      <td>Good</td>\n",
       "      <td>7 Average</td>\n",
       "      <td>Gas</td>\n",
       "      <td>PUBLIC</td>\n",
       "      <td>1180</td>\n",
       "      <td>0</td>\n",
       "      <td>0</td>\n",
       "      <td>40</td>\n",
       "      <td>1969</td>\n",
       "      <td>0</td>\n",
       "      <td>2102 Southeast 21st Court, Renton, Washington 98055, United States</td>\n",
       "      <td>98055</td>\n",
       "    </tr>\n",
       "    <tr>\n",
       "      <th>8910500230</th>\n",
       "      <td>12/13/2021</td>\n",
       "      <td>920000.00</td>\n",
       "      <td>5</td>\n",
       "      <td>2.50</td>\n",
       "      <td>2770</td>\n",
       "      <td>6703</td>\n",
       "      <td>1.00</td>\n",
       "      <td>NO</td>\n",
       "      <td>NO</td>\n",
       "      <td>YES</td>\n",
       "      <td>AVERAGE</td>\n",
       "      <td>Average</td>\n",
       "      <td>7 Average</td>\n",
       "      <td>Oil</td>\n",
       "      <td>PUBLIC</td>\n",
       "      <td>1570</td>\n",
       "      <td>1570</td>\n",
       "      <td>0</td>\n",
       "      <td>240</td>\n",
       "      <td>1950</td>\n",
       "      <td>0</td>\n",
       "      <td>11231 Greenwood Avenue North, Seattle, Washington 98133, United States</td>\n",
       "      <td>98133</td>\n",
       "    </tr>\n",
       "    <tr>\n",
       "      <th>1180000275</th>\n",
       "      <td>9/29/2021</td>\n",
       "      <td>311000.00</td>\n",
       "      <td>6</td>\n",
       "      <td>2.00</td>\n",
       "      <td>2880</td>\n",
       "      <td>6156</td>\n",
       "      <td>1.00</td>\n",
       "      <td>NO</td>\n",
       "      <td>NO</td>\n",
       "      <td>NO</td>\n",
       "      <td>AVERAGE</td>\n",
       "      <td>Average</td>\n",
       "      <td>7 Average</td>\n",
       "      <td>Gas</td>\n",
       "      <td>PUBLIC</td>\n",
       "      <td>1580</td>\n",
       "      <td>1580</td>\n",
       "      <td>0</td>\n",
       "      <td>0</td>\n",
       "      <td>1956</td>\n",
       "      <td>0</td>\n",
       "      <td>8504 South 113th Street, Seattle, Washington 98178, United States</td>\n",
       "      <td>98178</td>\n",
       "    </tr>\n",
       "    <tr>\n",
       "      <th>1604601802</th>\n",
       "      <td>12/14/2021</td>\n",
       "      <td>775000.00</td>\n",
       "      <td>3</td>\n",
       "      <td>3.00</td>\n",
       "      <td>2160</td>\n",
       "      <td>1400</td>\n",
       "      <td>2.00</td>\n",
       "      <td>NO</td>\n",
       "      <td>NO</td>\n",
       "      <td>NO</td>\n",
       "      <td>AVERAGE</td>\n",
       "      <td>Average</td>\n",
       "      <td>9 Better</td>\n",
       "      <td>Gas</td>\n",
       "      <td>PUBLIC</td>\n",
       "      <td>1090</td>\n",
       "      <td>1070</td>\n",
       "      <td>200</td>\n",
       "      <td>270</td>\n",
       "      <td>2010</td>\n",
       "      <td>0</td>\n",
       "      <td>4079 Letitia Avenue South, Seattle, Washington 98118, United States</td>\n",
       "      <td>98118</td>\n",
       "    </tr>\n",
       "    <tr>\n",
       "      <th>8562780790</th>\n",
       "      <td>8/24/2021</td>\n",
       "      <td>592500.00</td>\n",
       "      <td>2</td>\n",
       "      <td>2.00</td>\n",
       "      <td>1120</td>\n",
       "      <td>758</td>\n",
       "      <td>2.00</td>\n",
       "      <td>NO</td>\n",
       "      <td>NO</td>\n",
       "      <td>YES</td>\n",
       "      <td>NONE</td>\n",
       "      <td>Average</td>\n",
       "      <td>7 Average</td>\n",
       "      <td>Electricity</td>\n",
       "      <td>PUBLIC</td>\n",
       "      <td>1120</td>\n",
       "      <td>550</td>\n",
       "      <td>550</td>\n",
       "      <td>30</td>\n",
       "      <td>2012</td>\n",
       "      <td>0</td>\n",
       "      <td>2193 Northwest Talus Drive, Issaquah, Washington 98027, United States</td>\n",
       "      <td>98027</td>\n",
       "    </tr>\n",
       "  </tbody>\n",
       "</table>\n",
       "</div>"
      ],
      "text/plain": [
       "                  date     price  bedrooms  bathrooms  sqft_living  sqft_lot  floors waterfront greenbelt nuisance     view condition      grade  heat_source sewer_system  sqft_above  sqft_basement  sqft_garage  sqft_patio  yr_built  yr_renovated                                                                 address Zip Code\n",
       "id                                                                                                                                                                                                                                                                                                                                     \n",
       "7399300360   5/24/2022 675000.00         4       1.00         1180      7140    1.00         NO        NO       NO     NONE      Good  7 Average          Gas       PUBLIC        1180              0            0          40      1969             0      2102 Southeast 21st Court, Renton, Washington 98055, United States    98055\n",
       "8910500230  12/13/2021 920000.00         5       2.50         2770      6703    1.00         NO        NO      YES  AVERAGE   Average  7 Average          Oil       PUBLIC        1570           1570            0         240      1950             0  11231 Greenwood Avenue North, Seattle, Washington 98133, United States    98133\n",
       "1180000275   9/29/2021 311000.00         6       2.00         2880      6156    1.00         NO        NO       NO  AVERAGE   Average  7 Average          Gas       PUBLIC        1580           1580            0           0      1956             0       8504 South 113th Street, Seattle, Washington 98178, United States    98178\n",
       "1604601802  12/14/2021 775000.00         3       3.00         2160      1400    2.00         NO        NO       NO  AVERAGE   Average   9 Better          Gas       PUBLIC        1090           1070          200         270      2010             0     4079 Letitia Avenue South, Seattle, Washington 98118, United States    98118\n",
       "8562780790   8/24/2021 592500.00         2       2.00         1120       758    2.00         NO        NO      YES     NONE   Average  7 Average  Electricity       PUBLIC        1120            550          550          30      2012             0   2193 Northwest Talus Drive, Issaquah, Washington 98027, United States    98027"
      ]
     },
     "execution_count": 13,
     "metadata": {},
     "output_type": "execute_result"
    }
   ],
   "source": [
    "kc_house_data_df.head()"
   ]
  },
  {
   "cell_type": "markdown",
   "metadata": {},
   "source": [
    "Using the nunique function to find the number of zipcodes in the dataset which is 92."
   ]
  },
  {
   "cell_type": "code",
   "execution_count": 14,
   "metadata": {},
   "outputs": [],
   "source": [
    "unique_zipcodes = kc_house_data_df['Zip Code'].nunique()"
   ]
  },
  {
   "cell_type": "code",
   "execution_count": 15,
   "metadata": {},
   "outputs": [
    {
     "data": {
      "text/plain": [
       "92"
      ]
     },
     "execution_count": 15,
     "metadata": {},
     "output_type": "execute_result"
    }
   ],
   "source": [
    "unique_zipcodes"
   ]
  },
  {
   "cell_type": "markdown",
   "metadata": {},
   "source": [
    "# Data Analysis"
   ]
  },
  {
   "cell_type": "markdown",
   "metadata": {},
   "source": [
    "I started by running a df.describe() on the dataset to learn more about the descriptive statistics. I see that the mean of price is about 1.1 million and the median is 860,000, which means we do not have a normal distribution and it is right skewed. The majority of the data is located on the left side of the graph."
   ]
  },
  {
   "cell_type": "code",
   "execution_count": 16,
   "metadata": {},
   "outputs": [
    {
     "data": {
      "text/html": [
       "<div>\n",
       "<style scoped>\n",
       "    .dataframe tbody tr th:only-of-type {\n",
       "        vertical-align: middle;\n",
       "    }\n",
       "\n",
       "    .dataframe tbody tr th {\n",
       "        vertical-align: top;\n",
       "    }\n",
       "\n",
       "    .dataframe thead th {\n",
       "        text-align: right;\n",
       "    }\n",
       "</style>\n",
       "<table border=\"1\" class=\"dataframe\">\n",
       "  <thead>\n",
       "    <tr style=\"text-align: right;\">\n",
       "      <th></th>\n",
       "      <th>price</th>\n",
       "      <th>bedrooms</th>\n",
       "      <th>bathrooms</th>\n",
       "      <th>sqft_living</th>\n",
       "      <th>sqft_lot</th>\n",
       "      <th>floors</th>\n",
       "      <th>sqft_above</th>\n",
       "      <th>sqft_basement</th>\n",
       "      <th>sqft_garage</th>\n",
       "      <th>sqft_patio</th>\n",
       "      <th>yr_built</th>\n",
       "      <th>yr_renovated</th>\n",
       "    </tr>\n",
       "  </thead>\n",
       "  <tbody>\n",
       "    <tr>\n",
       "      <th>count</th>\n",
       "      <td>30111.00</td>\n",
       "      <td>30111.00</td>\n",
       "      <td>30111.00</td>\n",
       "      <td>30111.00</td>\n",
       "      <td>30111.00</td>\n",
       "      <td>30111.00</td>\n",
       "      <td>30111.00</td>\n",
       "      <td>30111.00</td>\n",
       "      <td>30111.00</td>\n",
       "      <td>30111.00</td>\n",
       "      <td>30111.00</td>\n",
       "      <td>30111.00</td>\n",
       "    </tr>\n",
       "    <tr>\n",
       "      <th>mean</th>\n",
       "      <td>1108970.65</td>\n",
       "      <td>3.42</td>\n",
       "      <td>2.34</td>\n",
       "      <td>2113.34</td>\n",
       "      <td>16648.80</td>\n",
       "      <td>1.54</td>\n",
       "      <td>1810.39</td>\n",
       "      <td>476.62</td>\n",
       "      <td>330.48</td>\n",
       "      <td>217.45</td>\n",
       "      <td>1975.16</td>\n",
       "      <td>90.79</td>\n",
       "    </tr>\n",
       "    <tr>\n",
       "      <th>std</th>\n",
       "      <td>896515.83</td>\n",
       "      <td>0.98</td>\n",
       "      <td>0.89</td>\n",
       "      <td>973.45</td>\n",
       "      <td>59933.03</td>\n",
       "      <td>0.57</td>\n",
       "      <td>877.73</td>\n",
       "      <td>579.81</td>\n",
       "      <td>285.73</td>\n",
       "      <td>245.30</td>\n",
       "      <td>32.05</td>\n",
       "      <td>416.20</td>\n",
       "    </tr>\n",
       "    <tr>\n",
       "      <th>min</th>\n",
       "      <td>27360.00</td>\n",
       "      <td>0.00</td>\n",
       "      <td>0.00</td>\n",
       "      <td>3.00</td>\n",
       "      <td>402.00</td>\n",
       "      <td>1.00</td>\n",
       "      <td>2.00</td>\n",
       "      <td>0.00</td>\n",
       "      <td>0.00</td>\n",
       "      <td>0.00</td>\n",
       "      <td>1900.00</td>\n",
       "      <td>0.00</td>\n",
       "    </tr>\n",
       "    <tr>\n",
       "      <th>25%</th>\n",
       "      <td>649236.00</td>\n",
       "      <td>3.00</td>\n",
       "      <td>2.00</td>\n",
       "      <td>1420.00</td>\n",
       "      <td>4850.00</td>\n",
       "      <td>1.00</td>\n",
       "      <td>1180.00</td>\n",
       "      <td>0.00</td>\n",
       "      <td>0.00</td>\n",
       "      <td>40.00</td>\n",
       "      <td>1953.00</td>\n",
       "      <td>0.00</td>\n",
       "    </tr>\n",
       "    <tr>\n",
       "      <th>50%</th>\n",
       "      <td>860000.00</td>\n",
       "      <td>3.00</td>\n",
       "      <td>2.50</td>\n",
       "      <td>1920.00</td>\n",
       "      <td>7477.00</td>\n",
       "      <td>1.50</td>\n",
       "      <td>1560.00</td>\n",
       "      <td>0.00</td>\n",
       "      <td>400.00</td>\n",
       "      <td>150.00</td>\n",
       "      <td>1977.00</td>\n",
       "      <td>0.00</td>\n",
       "    </tr>\n",
       "    <tr>\n",
       "      <th>75%</th>\n",
       "      <td>1300000.00</td>\n",
       "      <td>4.00</td>\n",
       "      <td>3.00</td>\n",
       "      <td>2620.00</td>\n",
       "      <td>10568.00</td>\n",
       "      <td>2.00</td>\n",
       "      <td>2270.00</td>\n",
       "      <td>940.00</td>\n",
       "      <td>510.00</td>\n",
       "      <td>320.00</td>\n",
       "      <td>2003.00</td>\n",
       "      <td>0.00</td>\n",
       "    </tr>\n",
       "    <tr>\n",
       "      <th>max</th>\n",
       "      <td>30750000.00</td>\n",
       "      <td>13.00</td>\n",
       "      <td>10.50</td>\n",
       "      <td>15360.00</td>\n",
       "      <td>3253932.00</td>\n",
       "      <td>4.00</td>\n",
       "      <td>12660.00</td>\n",
       "      <td>8020.00</td>\n",
       "      <td>3580.00</td>\n",
       "      <td>4370.00</td>\n",
       "      <td>2022.00</td>\n",
       "      <td>2022.00</td>\n",
       "    </tr>\n",
       "  </tbody>\n",
       "</table>\n",
       "</div>"
      ],
      "text/plain": [
       "            price  bedrooms  bathrooms  sqft_living   sqft_lot   floors  sqft_above  sqft_basement  sqft_garage  sqft_patio  yr_built  yr_renovated\n",
       "count    30111.00  30111.00   30111.00     30111.00   30111.00 30111.00    30111.00       30111.00     30111.00    30111.00  30111.00      30111.00\n",
       "mean   1108970.65      3.42       2.34      2113.34   16648.80     1.54     1810.39         476.62       330.48      217.45   1975.16         90.79\n",
       "std     896515.83      0.98       0.89       973.45   59933.03     0.57      877.73         579.81       285.73      245.30     32.05        416.20\n",
       "min      27360.00      0.00       0.00         3.00     402.00     1.00        2.00           0.00         0.00        0.00   1900.00          0.00\n",
       "25%     649236.00      3.00       2.00      1420.00    4850.00     1.00     1180.00           0.00         0.00       40.00   1953.00          0.00\n",
       "50%     860000.00      3.00       2.50      1920.00    7477.00     1.50     1560.00           0.00       400.00      150.00   1977.00          0.00\n",
       "75%    1300000.00      4.00       3.00      2620.00   10568.00     2.00     2270.00         940.00       510.00      320.00   2003.00          0.00\n",
       "max   30750000.00     13.00      10.50     15360.00 3253932.00     4.00    12660.00        8020.00      3580.00     4370.00   2022.00       2022.00"
      ]
     },
     "execution_count": 16,
     "metadata": {},
     "output_type": "execute_result"
    }
   ],
   "source": [
    "kc_house_data_df.describe()"
   ]
  },
  {
   "cell_type": "markdown",
   "metadata": {},
   "source": [
    "I used a heatmap to see how the features were correlated with each other and found that price was correlated the highest with sqft_living."
   ]
  },
  {
   "cell_type": "code",
   "execution_count": 17,
   "metadata": {
    "scrolled": false
   },
   "outputs": [
    {
     "data": {
      "text/plain": [
       "<AxesSubplot:>"
      ]
     },
     "execution_count": 17,
     "metadata": {},
     "output_type": "execute_result"
    },
    {
     "data": {
      "image/png": "[encoded data removed]",
      "text/plain": [
       "<Figure size 720x720 with 2 Axes>"
      ]
     },
     "metadata": {
      "needs_background": "light"
     },
     "output_type": "display_data"
    }
   ],
   "source": [
    "fig, ax = plt.subplots(figsize=(10,10))\n",
    "cor = kc_house_data_df.corr()\n",
    "sns.heatmap(cor,cmap=\"Blues\",annot=True)"
   ]
  },
  {
   "cell_type": "code",
   "execution_count": 18,
   "metadata": {
    "scrolled": false
   },
   "outputs": [
    {
     "data": {
      "text/plain": [
       "<AxesSubplot:xlabel='sqft_living', ylabel='price'>"
      ]
     },
     "execution_count": 18,
     "metadata": {},
     "output_type": "execute_result"
    },
    {
     "data": {
      "image/png": "[encoded data removed]",
      "text/plain": [
       "<Figure size 432x288 with 1 Axes>"
      ]
     },
     "metadata": {
      "needs_background": "light"
     },
     "output_type": "display_data"
    }
   ],
   "source": [
    "kc_house_data_df.plot.scatter(\n",
    "    x='sqft_living',\n",
    "    y='price',\n",
    "    c='DarkBlue',\n",
    "    alpha = 0.1)"
   ]
  },
  {
   "cell_type": "markdown",
   "metadata": {},
   "source": [
    "I wanted to see how many zipcodes there were in the dataset and how many each contained so I ran a value_counts on \"Zip Codes\""
   ]
  },
  {
   "cell_type": "code",
   "execution_count": 19,
   "metadata": {},
   "outputs": [
    {
     "data": {
      "text/plain": [
       "98042    992\n",
       "98038    857\n",
       "98103    761\n",
       "98115    760\n",
       "98117    748\n",
       "98023    695\n",
       "98034    689\n",
       "98058    682\n",
       "98133    664\n",
       "98001    623\n",
       "98092    609\n",
       "98033    608\n",
       "98118    600\n",
       "98059    583\n",
       "98052    568\n",
       "98106    543\n",
       "98031    530\n",
       "98006    526\n",
       "98056    520\n",
       "98155    515\n",
       "98125    489\n",
       "98045    466\n",
       "98107    458\n",
       "98022    457\n",
       "98126    440\n",
       "98003    440\n",
       "98122    440\n",
       "98144    439\n",
       "98146    428\n",
       "98074    427\n",
       "98198    425\n",
       "98075    411\n",
       "98199    410\n",
       "98008    397\n",
       "98053    393\n",
       "98116    387\n",
       "98178    383\n",
       "98168    383\n",
       "98027    382\n",
       "98030    377\n",
       "98002    363\n",
       "98028    349\n",
       "98040    349\n",
       "98166    344\n",
       "98072    343\n",
       "98105    330\n",
       "98004    322\n",
       "98029    321\n",
       "98010    314\n",
       "98112    307\n",
       "98108    305\n",
       "98177    301\n",
       "98136    299\n",
       "98065    292\n",
       "98011    261\n",
       "98077    246\n",
       "98019    245\n",
       "98119    241\n",
       "98055    218\n",
       "98188    200\n",
       "98070    191\n",
       "98032    184\n",
       "98005    178\n",
       "98014    156\n",
       "98007    154\n",
       "98102    144\n",
       "98109    129\n",
       "98057    127\n",
       "98024    114\n",
       "98148     94\n",
       "98047     77\n",
       "98051     66\n",
       "98039     59\n",
       "98354     23\n",
       "98288     16\n",
       "98272      6\n",
       "98271      5\n",
       "98223      4\n",
       "98251      3\n",
       "98224      3\n",
       "98338      2\n",
       "98663      2\n",
       "98050      2\n",
       "98372      2\n",
       "98296      1\n",
       "99203      1\n",
       "99223      1\n",
       "99403      1\n",
       "99202      1\n",
       "98422      1\n",
       "98270      1\n",
       "98387      1\n",
       "Name: Zip Code, dtype: int64"
      ]
     },
     "execution_count": 19,
     "metadata": {},
     "output_type": "execute_result"
    }
   ],
   "source": [
    "kc_house_data_df['Zip Code'].value_counts()"
   ]
  },
  {
   "cell_type": "markdown",
   "metadata": {},
   "source": [
    "After reviewing the counts, I decided to the drop the zipcodes that had under 100 houses listed to sale. I decided to keep the '98149' zipcode with a count of 94 because it was close."
   ]
  },
  {
   "cell_type": "code",
   "execution_count": 20,
   "metadata": {},
   "outputs": [],
   "source": [
    "# Count the occurrences of each ZIP code\n",
    "zipcode_counts = kc_house_data_df['Zip Code'].value_counts()\n",
    "kc_house_data_df = kc_house_data_df[kc_house_data_df['Zip Code'].isin(zipcode_counts[zipcode_counts >= 94].index)]\n"
   ]
  },
  {
   "cell_type": "markdown",
   "metadata": {},
   "source": [
    "Checking to see if the Zip Codes below a count of 94 were dropped, they were!"
   ]
  },
  {
   "cell_type": "code",
   "execution_count": 21,
   "metadata": {},
   "outputs": [
    {
     "data": {
      "text/plain": [
       "98042    992\n",
       "98038    857\n",
       "98103    761\n",
       "98115    760\n",
       "98117    748\n",
       "98023    695\n",
       "98034    689\n",
       "98058    682\n",
       "98133    664\n",
       "98001    623\n",
       "98092    609\n",
       "98033    608\n",
       "98118    600\n",
       "98059    583\n",
       "98052    568\n",
       "98106    543\n",
       "98031    530\n",
       "98006    526\n",
       "98056    520\n",
       "98155    515\n",
       "98125    489\n",
       "98045    466\n",
       "98107    458\n",
       "98022    457\n",
       "98126    440\n",
       "98003    440\n",
       "98122    440\n",
       "98144    439\n",
       "98146    428\n",
       "98074    427\n",
       "98198    425\n",
       "98075    411\n",
       "98199    410\n",
       "98008    397\n",
       "98053    393\n",
       "98116    387\n",
       "98168    383\n",
       "98178    383\n",
       "98027    382\n",
       "98030    377\n",
       "98002    363\n",
       "98040    349\n",
       "98028    349\n",
       "98166    344\n",
       "98072    343\n",
       "98105    330\n",
       "98004    322\n",
       "98029    321\n",
       "98010    314\n",
       "98112    307\n",
       "98108    305\n",
       "98177    301\n",
       "98136    299\n",
       "98065    292\n",
       "98011    261\n",
       "98077    246\n",
       "98019    245\n",
       "98119    241\n",
       "98055    218\n",
       "98188    200\n",
       "98070    191\n",
       "98032    184\n",
       "98005    178\n",
       "98014    156\n",
       "98007    154\n",
       "98102    144\n",
       "98109    129\n",
       "98057    127\n",
       "98024    114\n",
       "98148     94\n",
       "Name: Zip Code, dtype: int64"
      ]
     },
     "execution_count": 21,
     "metadata": {},
     "output_type": "execute_result"
    }
   ],
   "source": [
    "kc_house_data_df['Zip Code'].value_counts()"
   ]
  },
  {
   "cell_type": "markdown",
   "metadata": {},
   "source": [
    "I wanted to create a graph of median prices of homes by zipcode to get an idea of which zipcodes had the highest median price. To do this I used the sort_values function along with the median function. "
   ]
  },
  {
   "cell_type": "code",
   "execution_count": 22,
   "metadata": {
    "scrolled": true
   },
   "outputs": [
    {
     "data": {
      "image/png": "[encoded data removed]",
      "text/plain": [
       "<Figure size 1080x288 with 1 Axes>"
      ]
     },
     "metadata": {
      "needs_background": "light"
     },
     "output_type": "display_data"
    }
   ],
   "source": [
    "# Group data by ZIP code and calculate the median price from lowest to highest\n",
    "median_prices = kc_house_data_df.groupby('Zip Code')['price'].median().sort_values().reset_index()\n",
    "\n",
    "# Create a bar chart to visualize the median prices by ZIP code\n",
    "plt.figure(figsize=(15, 4))\n",
    "plt.bar(median_prices['Zip Code'], median_prices['price'])\n",
    "plt.xlabel('ZIP Code')\n",
    "plt.ylabel('Median Price (in millions of USD)')\n",
    "plt.title('Median Price by ZIP Code')\n",
    "# Label every data point on the X-axis\n",
    "plt.xticks(range(len(median_prices)), median_prices['Zip Code'], rotation=90)\n",
    "\n",
    "\n",
    "plt.show()\n"
   ]
  },
  {
   "cell_type": "code",
   "execution_count": 23,
   "metadata": {},
   "outputs": [
    {
     "name": "stdout",
     "output_type": "stream",
     "text": [
      "Overall Median Price: 870000.0\n"
     ]
    }
   ],
   "source": [
    "overall_median_price = kc_house_data_df['price'].median()\n",
    "print(\"Overall Median Price:\", overall_median_price)\n"
   ]
  },
  {
   "cell_type": "markdown",
   "metadata": {},
   "source": [
    "I wanted to know what the Median Price of homes is in the Kings County dataset - It is $870,000. Now I want to investigate which zip codes have a lot of homes for sale significantly below the median price for the county.I started by gathering the zipcodes that below the median price for the county."
   ]
  },
  {
   "cell_type": "code",
   "execution_count": 24,
   "metadata": {},
   "outputs": [],
   "source": [
    "low_median_prices = median_prices[median_prices['price']<870000]"
   ]
  },
  {
   "cell_type": "markdown",
   "metadata": {},
   "source": [
    "I decided to create a new dataframe that consisted of all the zipcodes that were below the median price of $870,000 for the county."
   ]
  },
  {
   "cell_type": "code",
   "execution_count": 25,
   "metadata": {},
   "outputs": [],
   "source": [
    "low_kc_house = kc_house_data_df[kc_house_data_df['Zip Code'].isin(low_median_prices['Zip Code'])]"
   ]
  },
  {
   "cell_type": "code",
   "execution_count": 26,
   "metadata": {
    "scrolled": true
   },
   "outputs": [
    {
     "name": "stdout",
     "output_type": "stream",
     "text": [
      "<class 'pandas.core.frame.DataFrame'>\n",
      "Int64Index: 14431 entries, 7399300360 to 9557800100\n",
      "Data columns (total 23 columns):\n",
      " #   Column         Non-Null Count  Dtype  \n",
      "---  ------         --------------  -----  \n",
      " 0   date           14431 non-null  object \n",
      " 1   price          14431 non-null  float64\n",
      " 2   bedrooms       14431 non-null  int64  \n",
      " 3   bathrooms      14431 non-null  float64\n",
      " 4   sqft_living    14431 non-null  int64  \n",
      " 5   sqft_lot       14431 non-null  int64  \n",
      " 6   floors         14431 non-null  float64\n",
      " 7   waterfront     14431 non-null  object \n",
      " 8   greenbelt      14431 non-null  object \n",
      " 9   nuisance       14431 non-null  object \n",
      " 10  view           14431 non-null  object \n",
      " 11  condition      14431 non-null  object \n",
      " 12  grade          14431 non-null  object \n",
      " 13  heat_source    14431 non-null  object \n",
      " 14  sewer_system   14431 non-null  object \n",
      " 15  sqft_above     14431 non-null  int64  \n",
      " 16  sqft_basement  14431 non-null  int64  \n",
      " 17  sqft_garage    14431 non-null  int64  \n",
      " 18  sqft_patio     14431 non-null  int64  \n",
      " 19  yr_built       14431 non-null  int64  \n",
      " 20  yr_renovated   14431 non-null  int64  \n",
      " 21  address        14431 non-null  object \n",
      " 22  Zip Code       14431 non-null  object \n",
      "dtypes: float64(3), int64(9), object(11)\n",
      "memory usage: 2.6+ MB\n"
     ]
    }
   ],
   "source": [
    "low_kc_house.info()"
   ]
  },
  {
   "cell_type": "code",
   "execution_count": 27,
   "metadata": {},
   "outputs": [
    {
     "data": {
      "text/plain": [
       "7 Average        6642\n",
       "8 Good           3991\n",
       "6 Low Average    2142\n",
       "9 Better         1051\n",
       "5 Fair            279\n",
       "10 Very Good      230\n",
       "11 Excellent       50\n",
       "4 Low              32\n",
       "3 Poor              8\n",
       "12 Luxury           5\n",
       "2 Substandard       1\n",
       "Name: grade, dtype: int64"
      ]
     },
     "execution_count": 27,
     "metadata": {},
     "output_type": "execute_result"
    }
   ],
   "source": [
    "low_kc_house['grade'].value_counts()"
   ]
  },
  {
   "cell_type": "markdown",
   "metadata": {},
   "source": [
    "Since the 'grade' column contained categorical data I wanted to change this to numerical data so it could be useful once I start modeling. I used the .map function and found information on this by typing `map a function to a column in pandas` and found this [solution](https://sparkbyexamples.com/pandas/pandas-map-function-explained/)"
   ]
  },
  {
   "cell_type": "code",
   "execution_count": 28,
   "metadata": {},
   "outputs": [],
   "source": [
    "grade_mapping = {\n",
    "    '2 Substandard': 2,\n",
    "    '3 Poor': 3,\n",
    "    '4 Low': 4,\n",
    "    '5 Fair': 5,\n",
    "    '6 Low Average': 6,\n",
    "    '7 Average': 7,\n",
    "    '8 Good': 8,\n",
    "    '9 Better': 9,\n",
    "    '10 Very Good': 10,\n",
    "    '11 Excellent': 11,\n",
    "    '12 Luxury': 12,\n",
    "}\n",
    "\n",
    "low_kc_house['grade'] = low_kc_house['grade'].map(grade_mapping)\n",
    "\n"
   ]
  },
  {
   "cell_type": "markdown",
   "metadata": {},
   "source": [
    "I wanted to check my data type on the grade column to make sure it was now numerical data by running .info on the df and it is."
   ]
  },
  {
   "cell_type": "code",
   "execution_count": 29,
   "metadata": {},
   "outputs": [
    {
     "data": {
      "text/html": [
       "<div>\n",
       "<style scoped>\n",
       "    .dataframe tbody tr th:only-of-type {\n",
       "        vertical-align: middle;\n",
       "    }\n",
       "\n",
       "    .dataframe tbody tr th {\n",
       "        vertical-align: top;\n",
       "    }\n",
       "\n",
       "    .dataframe thead th {\n",
       "        text-align: right;\n",
       "    }\n",
       "</style>\n",
       "<table border=\"1\" class=\"dataframe\">\n",
       "  <thead>\n",
       "    <tr style=\"text-align: right;\">\n",
       "      <th></th>\n",
       "      <th>date</th>\n",
       "      <th>price</th>\n",
       "      <th>bedrooms</th>\n",
       "      <th>bathrooms</th>\n",
       "      <th>sqft_living</th>\n",
       "      <th>sqft_lot</th>\n",
       "      <th>floors</th>\n",
       "      <th>waterfront</th>\n",
       "      <th>greenbelt</th>\n",
       "      <th>nuisance</th>\n",
       "      <th>view</th>\n",
       "      <th>condition</th>\n",
       "      <th>grade</th>\n",
       "      <th>heat_source</th>\n",
       "      <th>sewer_system</th>\n",
       "      <th>sqft_above</th>\n",
       "      <th>sqft_basement</th>\n",
       "      <th>sqft_garage</th>\n",
       "      <th>sqft_patio</th>\n",
       "      <th>yr_built</th>\n",
       "      <th>yr_renovated</th>\n",
       "      <th>address</th>\n",
       "      <th>Zip Code</th>\n",
       "    </tr>\n",
       "    <tr>\n",
       "      <th>id</th>\n",
       "      <th></th>\n",
       "      <th></th>\n",
       "      <th></th>\n",
       "      <th></th>\n",
       "      <th></th>\n",
       "      <th></th>\n",
       "      <th></th>\n",
       "      <th></th>\n",
       "      <th></th>\n",
       "      <th></th>\n",
       "      <th></th>\n",
       "      <th></th>\n",
       "      <th></th>\n",
       "      <th></th>\n",
       "      <th></th>\n",
       "      <th></th>\n",
       "      <th></th>\n",
       "      <th></th>\n",
       "      <th></th>\n",
       "      <th></th>\n",
       "      <th></th>\n",
       "      <th></th>\n",
       "      <th></th>\n",
       "    </tr>\n",
       "  </thead>\n",
       "  <tbody>\n",
       "    <tr>\n",
       "      <th>7399300360</th>\n",
       "      <td>5/24/2022</td>\n",
       "      <td>675000.00</td>\n",
       "      <td>4</td>\n",
       "      <td>1.00</td>\n",
       "      <td>1180</td>\n",
       "      <td>7140</td>\n",
       "      <td>1.00</td>\n",
       "      <td>NO</td>\n",
       "      <td>NO</td>\n",
       "      <td>NO</td>\n",
       "      <td>NONE</td>\n",
       "      <td>Good</td>\n",
       "      <td>7</td>\n",
       "      <td>Gas</td>\n",
       "      <td>PUBLIC</td>\n",
       "      <td>1180</td>\n",
       "      <td>0</td>\n",
       "      <td>0</td>\n",
       "      <td>40</td>\n",
       "      <td>1969</td>\n",
       "      <td>0</td>\n",
       "      <td>2102 Southeast 21st Court, Renton, Washington 98055, United States</td>\n",
       "      <td>98055</td>\n",
       "    </tr>\n",
       "    <tr>\n",
       "      <th>8910500230</th>\n",
       "      <td>12/13/2021</td>\n",
       "      <td>920000.00</td>\n",
       "      <td>5</td>\n",
       "      <td>2.50</td>\n",
       "      <td>2770</td>\n",
       "      <td>6703</td>\n",
       "      <td>1.00</td>\n",
       "      <td>NO</td>\n",
       "      <td>NO</td>\n",
       "      <td>YES</td>\n",
       "      <td>AVERAGE</td>\n",
       "      <td>Average</td>\n",
       "      <td>7</td>\n",
       "      <td>Oil</td>\n",
       "      <td>PUBLIC</td>\n",
       "      <td>1570</td>\n",
       "      <td>1570</td>\n",
       "      <td>0</td>\n",
       "      <td>240</td>\n",
       "      <td>1950</td>\n",
       "      <td>0</td>\n",
       "      <td>11231 Greenwood Avenue North, Seattle, Washington 98133, United States</td>\n",
       "      <td>98133</td>\n",
       "    </tr>\n",
       "    <tr>\n",
       "      <th>1180000275</th>\n",
       "      <td>9/29/2021</td>\n",
       "      <td>311000.00</td>\n",
       "      <td>6</td>\n",
       "      <td>2.00</td>\n",
       "      <td>2880</td>\n",
       "      <td>6156</td>\n",
       "      <td>1.00</td>\n",
       "      <td>NO</td>\n",
       "      <td>NO</td>\n",
       "      <td>NO</td>\n",
       "      <td>AVERAGE</td>\n",
       "      <td>Average</td>\n",
       "      <td>7</td>\n",
       "      <td>Gas</td>\n",
       "      <td>PUBLIC</td>\n",
       "      <td>1580</td>\n",
       "      <td>1580</td>\n",
       "      <td>0</td>\n",
       "      <td>0</td>\n",
       "      <td>1956</td>\n",
       "      <td>0</td>\n",
       "      <td>8504 South 113th Street, Seattle, Washington 98178, United States</td>\n",
       "      <td>98178</td>\n",
       "    </tr>\n",
       "    <tr>\n",
       "      <th>1604601802</th>\n",
       "      <td>12/14/2021</td>\n",
       "      <td>775000.00</td>\n",
       "      <td>3</td>\n",
       "      <td>3.00</td>\n",
       "      <td>2160</td>\n",
       "      <td>1400</td>\n",
       "      <td>2.00</td>\n",
       "      <td>NO</td>\n",
       "      <td>NO</td>\n",
       "      <td>NO</td>\n",
       "      <td>AVERAGE</td>\n",
       "      <td>Average</td>\n",
       "      <td>9</td>\n",
       "      <td>Gas</td>\n",
       "      <td>PUBLIC</td>\n",
       "      <td>1090</td>\n",
       "      <td>1070</td>\n",
       "      <td>200</td>\n",
       "      <td>270</td>\n",
       "      <td>2010</td>\n",
       "      <td>0</td>\n",
       "      <td>4079 Letitia Avenue South, Seattle, Washington 98118, United States</td>\n",
       "      <td>98118</td>\n",
       "    </tr>\n",
       "    <tr>\n",
       "      <th>2807100156</th>\n",
       "      <td>7/20/2021</td>\n",
       "      <td>625000.00</td>\n",
       "      <td>2</td>\n",
       "      <td>1.00</td>\n",
       "      <td>1190</td>\n",
       "      <td>5688</td>\n",
       "      <td>1.00</td>\n",
       "      <td>NO</td>\n",
       "      <td>NO</td>\n",
       "      <td>YES</td>\n",
       "      <td>NONE</td>\n",
       "      <td>Average</td>\n",
       "      <td>7</td>\n",
       "      <td>Electricity</td>\n",
       "      <td>PUBLIC</td>\n",
       "      <td>1190</td>\n",
       "      <td>0</td>\n",
       "      <td>300</td>\n",
       "      <td>0</td>\n",
       "      <td>1948</td>\n",
       "      <td>0</td>\n",
       "      <td>1602 North 185th Street, Shoreline, Washington 98133, United States</td>\n",
       "      <td>98133</td>\n",
       "    </tr>\n",
       "    <tr>\n",
       "      <th>...</th>\n",
       "      <td>...</td>\n",
       "      <td>...</td>\n",
       "      <td>...</td>\n",
       "      <td>...</td>\n",
       "      <td>...</td>\n",
       "      <td>...</td>\n",
       "      <td>...</td>\n",
       "      <td>...</td>\n",
       "      <td>...</td>\n",
       "      <td>...</td>\n",
       "      <td>...</td>\n",
       "      <td>...</td>\n",
       "      <td>...</td>\n",
       "      <td>...</td>\n",
       "      <td>...</td>\n",
       "      <td>...</td>\n",
       "      <td>...</td>\n",
       "      <td>...</td>\n",
       "      <td>...</td>\n",
       "      <td>...</td>\n",
       "      <td>...</td>\n",
       "      <td>...</td>\n",
       "      <td>...</td>\n",
       "    </tr>\n",
       "    <tr>\n",
       "      <th>3277800805</th>\n",
       "      <td>9/17/2021</td>\n",
       "      <td>725000.00</td>\n",
       "      <td>3</td>\n",
       "      <td>1.00</td>\n",
       "      <td>1680</td>\n",
       "      <td>3249</td>\n",
       "      <td>1.50</td>\n",
       "      <td>NO</td>\n",
       "      <td>NO</td>\n",
       "      <td>NO</td>\n",
       "      <td>NONE</td>\n",
       "      <td>Average</td>\n",
       "      <td>7</td>\n",
       "      <td>Oil</td>\n",
       "      <td>PUBLIC</td>\n",
       "      <td>1380</td>\n",
       "      <td>880</td>\n",
       "      <td>240</td>\n",
       "      <td>0</td>\n",
       "      <td>1929</td>\n",
       "      <td>0</td>\n",
       "      <td>6324 34th Avenue Southwest, Seattle, Washington 98126, United States</td>\n",
       "      <td>98126</td>\n",
       "    </tr>\n",
       "    <tr>\n",
       "      <th>3915500105</th>\n",
       "      <td>12/3/2021</td>\n",
       "      <td>380000.00</td>\n",
       "      <td>3</td>\n",
       "      <td>1.00</td>\n",
       "      <td>860</td>\n",
       "      <td>7805</td>\n",
       "      <td>1.00</td>\n",
       "      <td>NO</td>\n",
       "      <td>NO</td>\n",
       "      <td>YES</td>\n",
       "      <td>NONE</td>\n",
       "      <td>Good</td>\n",
       "      <td>6</td>\n",
       "      <td>Gas</td>\n",
       "      <td>PUBLIC</td>\n",
       "      <td>860</td>\n",
       "      <td>0</td>\n",
       "      <td>0</td>\n",
       "      <td>0</td>\n",
       "      <td>1947</td>\n",
       "      <td>0</td>\n",
       "      <td>407 M Street Southeast, Auburn, Washington 98002, United States</td>\n",
       "      <td>98002</td>\n",
       "    </tr>\n",
       "    <tr>\n",
       "      <th>2865600230</th>\n",
       "      <td>2/28/2022</td>\n",
       "      <td>665000.00</td>\n",
       "      <td>3</td>\n",
       "      <td>2.50</td>\n",
       "      <td>2100</td>\n",
       "      <td>7210</td>\n",
       "      <td>2.00</td>\n",
       "      <td>NO</td>\n",
       "      <td>NO</td>\n",
       "      <td>NO</td>\n",
       "      <td>NONE</td>\n",
       "      <td>Good</td>\n",
       "      <td>7</td>\n",
       "      <td>Gas</td>\n",
       "      <td>PUBLIC</td>\n",
       "      <td>2100</td>\n",
       "      <td>0</td>\n",
       "      <td>440</td>\n",
       "      <td>40</td>\n",
       "      <td>1979</td>\n",
       "      <td>0</td>\n",
       "      <td>5218 South 302nd Place, Auburn, Washington 98001, United States</td>\n",
       "      <td>98001</td>\n",
       "    </tr>\n",
       "    <tr>\n",
       "      <th>2781280080</th>\n",
       "      <td>2/24/2022</td>\n",
       "      <td>775000.00</td>\n",
       "      <td>3</td>\n",
       "      <td>2.50</td>\n",
       "      <td>2570</td>\n",
       "      <td>2889</td>\n",
       "      <td>2.00</td>\n",
       "      <td>NO</td>\n",
       "      <td>NO</td>\n",
       "      <td>NO</td>\n",
       "      <td>NONE</td>\n",
       "      <td>Average</td>\n",
       "      <td>8</td>\n",
       "      <td>Gas</td>\n",
       "      <td>PUBLIC</td>\n",
       "      <td>1830</td>\n",
       "      <td>740</td>\n",
       "      <td>480</td>\n",
       "      <td>100</td>\n",
       "      <td>2006</td>\n",
       "      <td>0</td>\n",
       "      <td>17127 114th Avenue Southeast, Renton, Washington 98055, United States</td>\n",
       "      <td>98055</td>\n",
       "    </tr>\n",
       "    <tr>\n",
       "      <th>9557800100</th>\n",
       "      <td>4/29/2022</td>\n",
       "      <td>500000.00</td>\n",
       "      <td>3</td>\n",
       "      <td>1.50</td>\n",
       "      <td>1200</td>\n",
       "      <td>11058</td>\n",
       "      <td>1.00</td>\n",
       "      <td>NO</td>\n",
       "      <td>NO</td>\n",
       "      <td>NO</td>\n",
       "      <td>NONE</td>\n",
       "      <td>Average</td>\n",
       "      <td>7</td>\n",
       "      <td>Oil</td>\n",
       "      <td>PUBLIC</td>\n",
       "      <td>1200</td>\n",
       "      <td>0</td>\n",
       "      <td>420</td>\n",
       "      <td>0</td>\n",
       "      <td>1965</td>\n",
       "      <td>0</td>\n",
       "      <td>18615 7th Avenue South, Burien, Washington 98148, United States</td>\n",
       "      <td>98148</td>\n",
       "    </tr>\n",
       "  </tbody>\n",
       "</table>\n",
       "<p>14431 rows × 23 columns</p>\n",
       "</div>"
      ],
      "text/plain": [
       "                  date     price  bedrooms  bathrooms  sqft_living  sqft_lot  floors waterfront greenbelt nuisance     view condition  grade  heat_source sewer_system  sqft_above  sqft_basement  sqft_garage  sqft_patio  yr_built  yr_renovated                                                                 address Zip Code\n",
       "id                                                                                                                                                                                                                                                                                                                                 \n",
       "7399300360   5/24/2022 675000.00         4       1.00         1180      7140    1.00         NO        NO       NO     NONE      Good      7          Gas       PUBLIC        1180              0            0          40      1969             0      2102 Southeast 21st Court, Renton, Washington 98055, United States    98055\n",
       "8910500230  12/13/2021 920000.00         5       2.50         2770      6703    1.00         NO        NO      YES  AVERAGE   Average      7          Oil       PUBLIC        1570           1570            0         240      1950             0  11231 Greenwood Avenue North, Seattle, Washington 98133, United States    98133\n",
       "1180000275   9/29/2021 311000.00         6       2.00         2880      6156    1.00         NO        NO       NO  AVERAGE   Average      7          Gas       PUBLIC        1580           1580            0           0      1956             0       8504 South 113th Street, Seattle, Washington 98178, United States    98178\n",
       "1604601802  12/14/2021 775000.00         3       3.00         2160      1400    2.00         NO        NO       NO  AVERAGE   Average      9          Gas       PUBLIC        1090           1070          200         270      2010             0     4079 Letitia Avenue South, Seattle, Washington 98118, United States    98118\n",
       "2807100156   7/20/2021 625000.00         2       1.00         1190      5688    1.00         NO        NO      YES     NONE   Average      7  Electricity       PUBLIC        1190              0          300           0      1948             0     1602 North 185th Street, Shoreline, Washington 98133, United States    98133\n",
       "...                ...       ...       ...        ...          ...       ...     ...        ...       ...      ...      ...       ...    ...          ...          ...         ...            ...          ...         ...       ...           ...                                                                     ...      ...\n",
       "3277800805   9/17/2021 725000.00         3       1.00         1680      3249    1.50         NO        NO       NO     NONE   Average      7          Oil       PUBLIC        1380            880          240           0      1929             0    6324 34th Avenue Southwest, Seattle, Washington 98126, United States    98126\n",
       "3915500105   12/3/2021 380000.00         3       1.00          860      7805    1.00         NO        NO      YES     NONE      Good      6          Gas       PUBLIC         860              0            0           0      1947             0         407 M Street Southeast, Auburn, Washington 98002, United States    98002\n",
       "2865600230   2/28/2022 665000.00         3       2.50         2100      7210    2.00         NO        NO       NO     NONE      Good      7          Gas       PUBLIC        2100              0          440          40      1979             0         5218 South 302nd Place, Auburn, Washington 98001, United States    98001\n",
       "2781280080   2/24/2022 775000.00         3       2.50         2570      2889    2.00         NO        NO       NO     NONE   Average      8          Gas       PUBLIC        1830            740          480         100      2006             0   17127 114th Avenue Southeast, Renton, Washington 98055, United States    98055\n",
       "9557800100   4/29/2022 500000.00         3       1.50         1200     11058    1.00         NO        NO       NO     NONE   Average      7          Oil       PUBLIC        1200              0          420           0      1965             0         18615 7th Avenue South, Burien, Washington 98148, United States    98148\n",
       "\n",
       "[14431 rows x 23 columns]"
      ]
     },
     "execution_count": 29,
     "metadata": {},
     "output_type": "execute_result"
    }
   ],
   "source": [
    "low_kc_house"
   ]
  },
  {
   "cell_type": "markdown",
   "metadata": {},
   "source": [
    "I wanted to find the zipcodes that contained the most fair and low average grades because these are the homes that could easily return profits after minimal renovations were applied."
   ]
  },
  {
   "cell_type": "code",
   "execution_count": 30,
   "metadata": {},
   "outputs": [
    {
     "name": "stdout",
     "output_type": "stream",
     "text": [
      "98168    177\n",
      "98118    144\n",
      "98146    143\n",
      "98106    128\n",
      "98002    122\n",
      "98178    120\n",
      "98126    109\n",
      "98155    103\n",
      "98022     99\n",
      "98133     94\n",
      "98056     91\n",
      "98001     85\n",
      "98042     85\n",
      "98023     79\n",
      "98166     77\n",
      "98108     73\n",
      "98057     70\n",
      "98058     70\n",
      "98125     65\n",
      "98144     60\n",
      "98038     59\n",
      "98198     56\n",
      "98070     55\n",
      "98030     44\n",
      "98188     41\n",
      "98092     35\n",
      "98010     29\n",
      "98003     28\n",
      "98055     26\n",
      "98032     24\n",
      "98031     20\n",
      "98148     10\n",
      "Name: Zip Code, dtype: int64\n"
     ]
    }
   ],
   "source": [
    "# Filter the dataframe for \"fair 5\" or \"low average 6\" grades\n",
    "fair_low_kc_house = low_kc_house[(low_kc_house['grade'] == 5) | (low_kc_house['grade'] == 6)]\n",
    "\n",
    "# Group the data by Zip Code and count the occurrences\n",
    "zipcode_counts = fair_low_kc_house['Zip Code'].value_counts()\n",
    "\n",
    "# Display the result\n",
    "print(zipcode_counts)"
   ]
  },
  {
   "cell_type": "code",
   "execution_count": 31,
   "metadata": {
    "scrolled": true
   },
   "outputs": [
    {
     "name": "stdout",
     "output_type": "stream",
     "text": [
      "<class 'pandas.core.frame.DataFrame'>\n",
      "Int64Index: 14431 entries, 7399300360 to 9557800100\n",
      "Data columns (total 23 columns):\n",
      " #   Column         Non-Null Count  Dtype  \n",
      "---  ------         --------------  -----  \n",
      " 0   date           14431 non-null  object \n",
      " 1   price          14431 non-null  float64\n",
      " 2   bedrooms       14431 non-null  int64  \n",
      " 3   bathrooms      14431 non-null  float64\n",
      " 4   sqft_living    14431 non-null  int64  \n",
      " 5   sqft_lot       14431 non-null  int64  \n",
      " 6   floors         14431 non-null  float64\n",
      " 7   waterfront     14431 non-null  object \n",
      " 8   greenbelt      14431 non-null  object \n",
      " 9   nuisance       14431 non-null  object \n",
      " 10  view           14431 non-null  object \n",
      " 11  condition      14431 non-null  object \n",
      " 12  grade          14431 non-null  int64  \n",
      " 13  heat_source    14431 non-null  object \n",
      " 14  sewer_system   14431 non-null  object \n",
      " 15  sqft_above     14431 non-null  int64  \n",
      " 16  sqft_basement  14431 non-null  int64  \n",
      " 17  sqft_garage    14431 non-null  int64  \n",
      " 18  sqft_patio     14431 non-null  int64  \n",
      " 19  yr_built       14431 non-null  int64  \n",
      " 20  yr_renovated   14431 non-null  int64  \n",
      " 21  address        14431 non-null  object \n",
      " 22  Zip Code       14431 non-null  object \n",
      "dtypes: float64(3), int64(10), object(10)\n",
      "memory usage: 2.6+ MB\n"
     ]
    }
   ],
   "source": [
    "low_kc_house.info()"
   ]
  },
  {
   "cell_type": "markdown",
   "metadata": {},
   "source": [
    "I dropped date because it was not a useful column of numeric values."
   ]
  },
  {
   "cell_type": "code",
   "execution_count": 32,
   "metadata": {},
   "outputs": [],
   "source": [
    "# Drop columns 'date'\n",
    "low_kc_house.drop(columns=['date'], inplace=True)"
   ]
  },
  {
   "cell_type": "markdown",
   "metadata": {},
   "source": [
    "Taking a look at what variables had the highest correlation with price."
   ]
  },
  {
   "cell_type": "code",
   "execution_count": 33,
   "metadata": {},
   "outputs": [
    {
     "data": {
      "text/plain": [
       "price           1.00\n",
       "bedrooms        0.24\n",
       "bathrooms       0.39\n",
       "sqft_living     0.52\n",
       "sqft_lot        0.16\n",
       "floors          0.22\n",
       "grade           0.46\n",
       "sqft_above      0.42\n",
       "sqft_basement   0.22\n",
       "sqft_garage     0.18\n",
       "sqft_patio      0.27\n",
       "yr_built        0.10\n",
       "yr_renovated    0.08\n",
       "Name: price, dtype: float64"
      ]
     },
     "execution_count": 33,
     "metadata": {},
     "output_type": "execute_result"
    }
   ],
   "source": [
    "low_kc_house.corr()['price']"
   ]
  },
  {
   "cell_type": "code",
   "execution_count": 34,
   "metadata": {},
   "outputs": [
    {
     "data": {
      "text/plain": [
       "<AxesSubplot:xlabel='sqft_living', ylabel='price'>"
      ]
     },
     "execution_count": 34,
     "metadata": {},
     "output_type": "execute_result"
    },
    {
     "data": {
      "image/png": "[encoded data removed]",
      "text/plain": [
       "<Figure size 432x288 with 1 Axes>"
      ]
     },
     "metadata": {
      "needs_background": "light"
     },
     "output_type": "display_data"
    }
   ],
   "source": [
    "low_kc_house.plot.scatter(x='sqft_living', y='price')"
   ]
  },
  {
   "cell_type": "markdown",
   "metadata": {},
   "source": [
    "Starting the train test split process. I entered my numerical features as my X variables and 'price' against my y variable."
   ]
  },
  {
   "cell_type": "code",
   "execution_count": 35,
   "metadata": {},
   "outputs": [],
   "source": [
    "# Define the features (X) and the target variable (y)\n",
    "X = low_kc_house[['sqft_living','bedrooms','bathrooms','floors','grade','sqft_lot','sqft_above','sqft_garage','sqft_basement','sqft_patio']]\n",
    "y = low_kc_house['price']\n"
   ]
  },
  {
   "cell_type": "code",
   "execution_count": 36,
   "metadata": {},
   "outputs": [],
   "source": [
    "# split the data into training and testing\n",
    "X_train, X_test, y_train, y_test = train_test_split(X, y, test_size=0.2,random_state=42)"
   ]
  },
  {
   "cell_type": "code",
   "execution_count": 37,
   "metadata": {},
   "outputs": [
    {
     "name": "stdout",
     "output_type": "stream",
     "text": [
      "(11544, 10)\n",
      "(2887, 10)\n",
      "(11544,)\n",
      "(2887,)\n"
     ]
    }
   ],
   "source": [
    "print(X_train.shape)\n",
    "print(X_test.shape)\n",
    "print(y_train.shape)\n",
    "print(y_test.shape)"
   ]
  },
  {
   "cell_type": "code",
   "execution_count": 38,
   "metadata": {},
   "outputs": [
    {
     "data": {
      "text/plain": [
       "sqft_living        int64\n",
       "bedrooms           int64\n",
       "bathrooms        float64\n",
       "floors           float64\n",
       "grade              int64\n",
       "sqft_lot           int64\n",
       "sqft_above         int64\n",
       "sqft_garage        int64\n",
       "sqft_basement      int64\n",
       "sqft_patio         int64\n",
       "dtype: object"
      ]
     },
     "execution_count": 38,
     "metadata": {},
     "output_type": "execute_result"
    }
   ],
   "source": [
    "X.dtypes"
   ]
  },
  {
   "cell_type": "markdown",
   "metadata": {},
   "source": [
    "I wanted to create a function so I could easily evaluate each of models with an r2 score, root mean squared error, and mean absolute error."
   ]
  },
  {
   "cell_type": "code",
   "execution_count": 39,
   "metadata": {},
   "outputs": [],
   "source": [
    "def evaluate_model(y_test, y_pred, lr):\n",
    "    # R-squared (R2)\n",
    "    r2 = r2_score(y_test, y_pred)\n",
    "    \n",
    "    # Root Mean Squared Error (RMSE)\n",
    "    rmse = mean_squared_error(y_test, y_pred, squared=False)\n",
    "    \n",
    "    # Mean Absolute Error (MAE)\n",
    "    mae = mean_absolute_error(y_test, y_pred)\n",
    "    \n",
    "    # Intercept\n",
    "    #intercept = lr.intercept_\n",
    "    \n",
    "    # Printing the results\n",
    "    print(\"R2 score: \", r2)\n",
    "    print(\"Root Mean Squared Error: \", rmse)\n",
    "    print(\"Mean Absolute Error: \", mae)\n",
    "    #print(\"Intercept: \", intercept)\n",
    "    \n",
    "    # Returning the results as a dictionary\n",
    "    results_model = {\n",
    "        'r2': r2,\n",
    "        'rmse': rmse,\n",
    "        'mae': mae,\n",
    "        #'intercept': intercept\n",
    "    }\n",
    "    \n",
    "    return results_model"
   ]
  },
  {
   "cell_type": "markdown",
   "metadata": {},
   "source": [
    "# Modeling"
   ]
  },
  {
   "cell_type": "markdown",
   "metadata": {},
   "source": [
    "## Baseline Model"
   ]
  },
  {
   "cell_type": "code",
   "execution_count": 40,
   "metadata": {},
   "outputs": [
    {
     "data": {
      "text/plain": [
       "<statsmodels.regression.linear_model.OLS at 0x7ff461adbee0>"
      ]
     },
     "execution_count": 40,
     "metadata": {},
     "output_type": "execute_result"
    }
   ],
   "source": [
    "baseline_model = sm.OLS(endog=y_train, exog=sm.add_constant(X_train['sqft_living']))\n",
    "baseline_model"
   ]
  },
  {
   "cell_type": "code",
   "execution_count": 41,
   "metadata": {},
   "outputs": [
    {
     "data": {
      "text/plain": [
       "<statsmodels.regression.linear_model.RegressionResultsWrapper at 0x7ff4618ebf70>"
      ]
     },
     "execution_count": 41,
     "metadata": {},
     "output_type": "execute_result"
    }
   ],
   "source": [
    "baseline_results = baseline_model.fit()\n",
    "baseline_results"
   ]
  },
  {
   "cell_type": "code",
   "execution_count": 42,
   "metadata": {},
   "outputs": [
    {
     "name": "stdout",
     "output_type": "stream",
     "text": [
      "                            OLS Regression Results                            \n",
      "==============================================================================\n",
      "Dep. Variable:                  price   R-squared:                       0.263\n",
      "Model:                            OLS   Adj. R-squared:                  0.263\n",
      "Method:                 Least Squares   F-statistic:                     4117.\n",
      "Date:                Wed, 22 Nov 2023   Prob (F-statistic):               0.00\n",
      "Time:                        12:41:12   Log-Likelihood:            -1.6271e+05\n",
      "No. Observations:               11544   AIC:                         3.254e+05\n",
      "Df Residuals:                   11542   BIC:                         3.254e+05\n",
      "Df Model:                           1                                         \n",
      "Covariance Type:            nonrobust                                         \n",
      "===============================================================================\n",
      "                  coef    std err          t      P>|t|      [0.025      0.975]\n",
      "-------------------------------------------------------------------------------\n",
      "const        2.705e+05   7867.698     34.375      0.000    2.55e+05    2.86e+05\n",
      "sqft_living   243.4649      3.794     64.164      0.000     236.027     250.903\n",
      "==============================================================================\n",
      "Omnibus:                    13605.835   Durbin-Watson:                   1.996\n",
      "Prob(Omnibus):                  0.000   Jarque-Bera (JB):          4328467.790\n",
      "Skew:                           5.844   Prob(JB):                         0.00\n",
      "Kurtosis:                      97.140   Cond. No.                     5.48e+03\n",
      "==============================================================================\n",
      "\n",
      "Notes:\n",
      "[1] Standard Errors assume that the covariance matrix of the errors is correctly specified.\n",
      "[2] The condition number is large, 5.48e+03. This might indicate that there are\n",
      "strong multicollinearity or other numerical problems.\n"
     ]
    }
   ],
   "source": [
    "print(baseline_results.summary())"
   ]
  },
  {
   "cell_type": "code",
   "execution_count": 43,
   "metadata": {},
   "outputs": [
    {
     "name": "stdout",
     "output_type": "stream",
     "text": [
      "R2 score:  0.27453333546309444\n",
      "Root Mean Squared Error:  330222.30380844034\n",
      "Mean Absolute Error:  188870.09638627042\n"
     ]
    },
    {
     "data": {
      "text/plain": [
       "{'r2': 0.27453333546309444,\n",
       " 'rmse': 330222.30380844034,\n",
       " 'mae': 188870.09638627042}"
      ]
     },
     "execution_count": 43,
     "metadata": {},
     "output_type": "execute_result"
    }
   ],
   "source": [
    "y_pred0 = baseline_results.predict(sm.add_constant(X_test['sqft_living']))\n",
    "evaluate_model(y_test,y_pred0,baseline_model)"
   ]
  },
  {
   "cell_type": "markdown",
   "metadata": {},
   "source": [
    "The model explains about 26 percent of the variance which is fairly low. This is understandable because there is a lot more that determines the price of a house other than square footage.\n",
    "The model predicts that an increase of 1 sqft_living is associated with an increase of about 245 USD in price.\n",
    "The model is statistically significant with a p-value below the standard alpha of 0.05. The testing data is showing a r2 score (variance) of about 27 percent which means there is an ever so slight underfitting issue. The root mean squared error is very high at about $330,000 which is substanstial. The mean absolute error is also very high at about 188,000 USD. It should also be noted that the constant is at about 270,000 USD. This means that the model is being built on this hypothetical floor price which is also very high. We can conclude that although this model performs pretty well it should really not be used for any real world predictions. "
   ]
  },
  {
   "cell_type": "code",
   "execution_count": 44,
   "metadata": {},
   "outputs": [
    {
     "data": {
      "image/png": "[encoded data removed]",
      "text/plain": [
       "<Figure size 432x288 with 1 Axes>"
      ]
     },
     "metadata": {
      "needs_background": "light"
     },
     "output_type": "display_data"
    }
   ],
   "source": [
    "# Plot the predicted vs. actual values\n",
    "\n",
    "plt.scatter(y_test, y_pred0, alpha=0.5)\n",
    "plt.plot([y.min(), y.max()], [y.min(), y.max()], color =\"red\")\n",
    "plt.xlabel(\"Actual Values\")\n",
    "plt.ylabel(\"Predicted Values\")\n",
    "plt.title(\"Predicted vs. Actual Values (Linear Regression)\")\n",
    "plt.show()"
   ]
  },
  {
   "cell_type": "markdown",
   "metadata": {},
   "source": [
    "The 95% confidence interval for the intercept is about 252282.6 to about 280032.4. The 95% confidence interval for the coeffecient of sqft_living is about 239.1 to about 252.5."
   ]
  },
  {
   "cell_type": "markdown",
   "metadata": {},
   "source": [
    "Building a Multiple Linear Regression Model "
   ]
  },
  {
   "cell_type": "code",
   "execution_count": 45,
   "metadata": {},
   "outputs": [
    {
     "data": {
      "text/html": [
       "<div>\n",
       "<style scoped>\n",
       "    .dataframe tbody tr th:only-of-type {\n",
       "        vertical-align: middle;\n",
       "    }\n",
       "\n",
       "    .dataframe tbody tr th {\n",
       "        vertical-align: top;\n",
       "    }\n",
       "\n",
       "    .dataframe thead th {\n",
       "        text-align: right;\n",
       "    }\n",
       "</style>\n",
       "<table border=\"1\" class=\"dataframe\">\n",
       "  <thead>\n",
       "    <tr style=\"text-align: right;\">\n",
       "      <th></th>\n",
       "      <th>sqft_living</th>\n",
       "      <th>grade</th>\n",
       "    </tr>\n",
       "    <tr>\n",
       "      <th>id</th>\n",
       "      <th></th>\n",
       "      <th></th>\n",
       "    </tr>\n",
       "  </thead>\n",
       "  <tbody>\n",
       "    <tr>\n",
       "      <th>7300400840</th>\n",
       "      <td>3120</td>\n",
       "      <td>9</td>\n",
       "    </tr>\n",
       "    <tr>\n",
       "      <th>3327900100</th>\n",
       "      <td>1800</td>\n",
       "      <td>7</td>\n",
       "    </tr>\n",
       "    <tr>\n",
       "      <th>9558020820</th>\n",
       "      <td>1900</td>\n",
       "      <td>8</td>\n",
       "    </tr>\n",
       "    <tr>\n",
       "      <th>3224049105</th>\n",
       "      <td>2420</td>\n",
       "      <td>7</td>\n",
       "    </tr>\n",
       "    <tr>\n",
       "      <th>4058801085</th>\n",
       "      <td>3110</td>\n",
       "      <td>8</td>\n",
       "    </tr>\n",
       "    <tr>\n",
       "      <th>...</th>\n",
       "      <td>...</td>\n",
       "      <td>...</td>\n",
       "    </tr>\n",
       "    <tr>\n",
       "      <th>7305300800</th>\n",
       "      <td>1200</td>\n",
       "      <td>6</td>\n",
       "    </tr>\n",
       "    <tr>\n",
       "      <th>520079082</th>\n",
       "      <td>3510</td>\n",
       "      <td>9</td>\n",
       "    </tr>\n",
       "    <tr>\n",
       "      <th>722069226</th>\n",
       "      <td>2990</td>\n",
       "      <td>7</td>\n",
       "    </tr>\n",
       "    <tr>\n",
       "      <th>87000114</th>\n",
       "      <td>860</td>\n",
       "      <td>5</td>\n",
       "    </tr>\n",
       "    <tr>\n",
       "      <th>1473120370</th>\n",
       "      <td>2790</td>\n",
       "      <td>9</td>\n",
       "    </tr>\n",
       "  </tbody>\n",
       "</table>\n",
       "<p>11544 rows × 2 columns</p>\n",
       "</div>"
      ],
      "text/plain": [
       "            sqft_living  grade\n",
       "id                            \n",
       "7300400840         3120      9\n",
       "3327900100         1800      7\n",
       "9558020820         1900      8\n",
       "3224049105         2420      7\n",
       "4058801085         3110      8\n",
       "...                 ...    ...\n",
       "7305300800         1200      6\n",
       "520079082          3510      9\n",
       "722069226          2990      7\n",
       "87000114            860      5\n",
       "1473120370         2790      9\n",
       "\n",
       "[11544 rows x 2 columns]"
      ]
     },
     "execution_count": 45,
     "metadata": {},
     "output_type": "execute_result"
    }
   ],
   "source": [
    "X_train[['sqft_living', 'grade']]"
   ]
  },
  {
   "cell_type": "markdown",
   "metadata": {},
   "source": [
    "## Second Model"
   ]
  },
  {
   "cell_type": "code",
   "execution_count": 54,
   "metadata": {},
   "outputs": [],
   "source": [
    "X = low_kc_house[['sqft_living','bedrooms','bathrooms','floors','grade','sqft_lot','sqft_above','sqft_garage','sqft_basement','sqft_patio']]\n",
    "X_second = low_kc_house[['sqft_living', 'grade']]\n",
    "y = low_kc_house['price']"
   ]
  },
  {
   "cell_type": "code",
   "execution_count": 55,
   "metadata": {},
   "outputs": [
    {
     "name": "stdout",
     "output_type": "stream",
     "text": [
      "                            OLS Regression Results                            \n",
      "==============================================================================\n",
      "Dep. Variable:                  price   R-squared:                       0.286\n",
      "Model:                            OLS   Adj. R-squared:                  0.285\n",
      "Method:                 Least Squares   F-statistic:                     2306.\n",
      "Date:                Wed, 22 Nov 2023   Prob (F-statistic):               0.00\n",
      "Time:                        12:42:34   Log-Likelihood:            -1.6253e+05\n",
      "No. Observations:               11544   AIC:                         3.251e+05\n",
      "Df Residuals:                   11541   BIC:                         3.251e+05\n",
      "Df Model:                           2                                         \n",
      "Covariance Type:            nonrobust                                         \n",
      "===============================================================================\n",
      "                  coef    std err          t      P>|t|      [0.025      0.975]\n",
      "-------------------------------------------------------------------------------\n",
      "const       -1.786e+05   2.48e+04     -7.217      0.000   -2.27e+05    -1.3e+05\n",
      "sqft_living   175.8783      5.145     34.182      0.000     165.793     185.964\n",
      "grade        7.945e+04   4159.037     19.103      0.000    7.13e+04    8.76e+04\n",
      "==============================================================================\n",
      "Omnibus:                    13912.155   Durbin-Watson:                   2.006\n",
      "Prob(Omnibus):                  0.000   Jarque-Bera (JB):          4890230.913\n",
      "Skew:                           6.061   Prob(JB):                         0.00\n",
      "Kurtosis:                     103.099   Cond. No.                     1.77e+04\n",
      "==============================================================================\n",
      "\n",
      "Notes:\n",
      "[1] Standard Errors assume that the covariance matrix of the errors is correctly specified.\n",
      "[2] The condition number is large, 1.77e+04. This might indicate that there are\n",
      "strong multicollinearity or other numerical problems.\n"
     ]
    }
   ],
   "source": [
    "MLR_model = sm.OLS(y_train, sm.add_constant(X_train[['sqft_living', 'grade']]))\n",
    "second_results = MLR_model.fit()\n",
    "print(second_results.summary())"
   ]
  },
  {
   "cell_type": "code",
   "execution_count": 56,
   "metadata": {},
   "outputs": [],
   "source": [
    "# Predict on the testing set\n",
    "# Y_preds are predicted values of the target variable based on the features\n",
    "# Once we have those preds, we can compare them to the actual values of the target\n",
    "# To evaluate the performance of the model\n",
    "y_pred1 = second_results.predict(sm.add_constant(X_test[['sqft_living', 'grade']]))"
   ]
  },
  {
   "cell_type": "code",
   "execution_count": 57,
   "metadata": {},
   "outputs": [
    {
     "name": "stdout",
     "output_type": "stream",
     "text": [
      "R2 score:  0.29719144102045214\n",
      "Root Mean Squared Error:  325024.5706205458\n",
      "Mean Absolute Error:  185494.7150060409\n"
     ]
    },
    {
     "data": {
      "text/plain": [
       "{'r2': 0.29719144102045214,\n",
       " 'rmse': 325024.5706205458,\n",
       " 'mae': 185494.7150060409}"
      ]
     },
     "execution_count": 57,
     "metadata": {},
     "output_type": "execute_result"
    }
   ],
   "source": [
    "evaluate_model(y_test,y_pred1,MLR_model)"
   ]
  },
  {
   "cell_type": "markdown",
   "metadata": {},
   "source": [
    "This model explains about 28.6% on the variance which is again fairly low but slightly better than the baseline model. The model predicts that 1 unit of increase in sqft_living would result in an increase of about 175 dollars in price. One unit of increase in grade predicts about a 79,000 dollar increase in price. The 2 features are statistically significant with low p-values. The testing r2 score is slightly higher at about 29.7% which means the model does have slight fit issues, most likely underfitting due to multicolinearity between the features. The root mean squared error is also very high at roughly 325,000 USD which is substantial but important to note that it is around 5,000 USD less than the baseline model. The mean absolute error is around 185,000 USD which is also very high but still roughly $3,000 less than the baseline model. The constant is also lower at roughly 178,000 USD which is almost 100,000 USD less than the baseline model. Although this model does appear to be an improvement it should still not be used for real world predictions."
   ]
  },
  {
   "cell_type": "markdown",
   "metadata": {},
   "source": [
    "## Third ''Kitchen Sink\" Model"
   ]
  },
  {
   "cell_type": "code",
   "execution_count": 50,
   "metadata": {},
   "outputs": [],
   "source": [
    "# X = low_kc_house[['sqft_living','bedrooms','bathrooms','floors','grade','sqft_lot','sqft_above','sqft_garage','sqft_basement','sqft_patio']]\n",
    "# y = low_kc_house['price']"
   ]
  },
  {
   "cell_type": "code",
   "execution_count": 58,
   "metadata": {},
   "outputs": [
    {
     "name": "stdout",
     "output_type": "stream",
     "text": [
      "                            OLS Regression Results                            \n",
      "==============================================================================\n",
      "Dep. Variable:                  price   R-squared:                       0.332\n",
      "Model:                            OLS   Adj. R-squared:                  0.331\n",
      "Method:                 Least Squares   F-statistic:                     571.9\n",
      "Date:                Wed, 22 Nov 2023   Prob (F-statistic):               0.00\n",
      "Time:                        12:45:23   Log-Likelihood:            -1.6215e+05\n",
      "No. Observations:               11544   AIC:                         3.243e+05\n",
      "Df Residuals:                   11533   BIC:                         3.244e+05\n",
      "Df Model:                          10                                         \n",
      "Covariance Type:            nonrobust                                         \n",
      "=================================================================================\n",
      "                    coef    std err          t      P>|t|      [0.025      0.975]\n",
      "---------------------------------------------------------------------------------\n",
      "const         -2.122e+05   2.74e+04     -7.747      0.000   -2.66e+05   -1.59e+05\n",
      "sqft_living     128.7035     14.246      9.034      0.000     100.778     156.629\n",
      "bedrooms      -4.185e+04   4128.568    -10.138      0.000   -4.99e+04   -3.38e+04\n",
      "bathrooms      1.781e+04   5891.947      3.023      0.003    6263.663    2.94e+04\n",
      "floors        -8314.9862   7389.614     -1.125      0.261   -2.28e+04    6169.912\n",
      "grade          9.674e+04   4518.246     21.412      0.000    8.79e+04    1.06e+05\n",
      "sqft_lot          0.6373      0.043     14.680      0.000       0.552       0.722\n",
      "sqft_above       62.3448     14.338      4.348      0.000      34.241      90.449\n",
      "sqft_garage    -183.5844     13.074    -14.042      0.000    -209.212    -157.956\n",
      "sqft_basement    87.9452     10.093      8.714      0.000      68.162     107.728\n",
      "sqft_patio      108.1793     14.186      7.626      0.000      80.373     135.986\n",
      "==============================================================================\n",
      "Omnibus:                    14195.026   Durbin-Watson:                   2.003\n",
      "Prob(Omnibus):                  0.000   Jarque-Bera (JB):          6012107.807\n",
      "Skew:                           6.228   Prob(JB):                         0.00\n",
      "Kurtosis:                     114.104   Cond. No.                     6.71e+05\n",
      "==============================================================================\n",
      "\n",
      "Notes:\n",
      "[1] Standard Errors assume that the covariance matrix of the errors is correctly specified.\n",
      "[2] The condition number is large, 6.71e+05. This might indicate that there are\n",
      "strong multicollinearity or other numerical problems.\n"
     ]
    }
   ],
   "source": [
    "MLR_model2 = sm.OLS(y_train, sm.add_constant(X_train))\n",
    "third_results = MLR_model2.fit()\n",
    "print(third_results.summary())"
   ]
  },
  {
   "cell_type": "code",
   "execution_count": 59,
   "metadata": {},
   "outputs": [],
   "source": [
    "# Predict on the testing set\n",
    "# Y_preds are predicted values of the target variable based on the features\n",
    "# Once we have those preds, we can compare them to the actual values of the target\n",
    "# To evaluate the performance of the model\n",
    "y_pred2 = third_results.predict(sm.add_constant(X_test))"
   ]
  },
  {
   "cell_type": "code",
   "execution_count": 60,
   "metadata": {},
   "outputs": [
    {
     "name": "stdout",
     "output_type": "stream",
     "text": [
      "R2 score:  0.35144510605774015\n",
      "Root Mean Squared Error:  312227.42168256926\n",
      "Mean Absolute Error:  176236.20491543153\n"
     ]
    },
    {
     "data": {
      "text/plain": [
       "{'r2': 0.35144510605774015,\n",
       " 'rmse': 312227.42168256926,\n",
       " 'mae': 176236.20491543153}"
      ]
     },
     "execution_count": 60,
     "metadata": {},
     "output_type": "execute_result"
    }
   ],
   "source": [
    "evaluate_model(y_test,y_pred2,MLR_model2)"
   ]
  },
  {
   "cell_type": "markdown",
   "metadata": {},
   "source": [
    "The \"kitchen sink\" model with all numeric features has a variance of about 33.2% which is again fairly low but also higher than the baseline model. It appears that all the features (with the exception of floors) are statistically significant with very low p-values. The testing r2 score is much lower at around 35% which means the model does have fit issues most likely overfitting due to multicolinearity between all the features. This is why this model would not perform as well as the other models with less features. Also important to note that the root mean squared error is very high $312,000 which is substantial. The feature Bedrooms has a negative correlation with price at roughly around 41,000 USD for a one unit increase. An example scenario where this would make sense is a new one or 2 bedroom condo in the heart of downtown would be more expensive than a 3 bedroom home in the middle of nowhere away from basic necessities like a grocery store. So we can see that there are some issues with the data. Practically you would think that a 4 bedroom home would be more valuable than a 2 bedroom home and in a lot of scenarios this would be true. This insight shows how truly important location must play a role in the price of a home."
   ]
  },
  {
   "cell_type": "markdown",
   "metadata": {},
   "source": [
    "## Evaluation"
   ]
  },
  {
   "cell_type": "markdown",
   "metadata": {},
   "source": [
    "The \"kitchen sink\" model is the best performing model. It has the highest variance of the 3 models but it is still fairly low at 33.2%. It has the lowest root mean squared error of the 3 models at roughly 312,000 which is still very large. For these reasons the model should not be used for predictive measures. From the model we did learn that one unit of square footage is approximately equal to to about 128 USD in price. A 1 unit increase in grade is approximately equal to 96,000 USD in price which seems high. It also shows that an additional bathroom is equal to about 17,000 USD in price. These are the features that seem to have the biggest impact on price."
   ]
  },
  {
   "cell_type": "markdown",
   "metadata": {},
   "source": [
    "# Conclusion"
   ]
  },
  {
   "cell_type": "markdown",
   "metadata": {},
   "source": [
    "The \"kitchen sink\" model is the best performing model. However this model should really not be used for real world predictions. We need to gather a lot more data (hundreds of thousands more entries) specifically in homes in the low median priced zipcode areas. Ideally looking for data that is not so multicolinear so that the regression models can be more useful/predictive. The top zipcode to focus on would be the '98168' area as it is showing the most homes with a 'fair' or 'low average' grade that in theory would return profits easily with minimal renovations."
   ]
  },
  {
   "cell_type": "markdown",
   "metadata": {},
   "source": [
    "# Limitations"
   ]
  },
  {
   "cell_type": "markdown",
   "metadata": {},
   "source": [
    "The main limitations of this dataset was that there was a lot of multicolinearity between the features of the homes. The features were more correlated with each other rather than the target variable (price). We could see this after looking at a heatmap (Pearson Correlation Coefficient Matrix) and after running each of the models with training/testing data. Although the Linear Regression models were helpful in getting an idea of how features correlate with price the models did not perform well enough to be predictive."
   ]
  },
  {
   "cell_type": "markdown",
   "metadata": {},
   "source": [
    "# Next Steps/Recommendations"
   ]
  },
  {
   "cell_type": "markdown",
   "metadata": {},
   "source": [
    "We need a lot more data/records (hundreds of thousands) specifically in the zipcodes below the median price for homes in the county. Ideally trying to find features that do not have a lot of multicolinearity. Also obtaining data on schools in the district as well as crime reports in the county would be helpful as the would definitely have an impact on price. This kind of data would not be correlated with standard features of a home. Gathering data on revonvation costs would also be useful as it is important to know if certain renovations are even worth doing to increase the value of a home. "
   ]
  },
  {
   "cell_type": "code",
   "execution_count": null,
   "metadata": {},
   "outputs": [],
   "source": []
  }
 ],
 "metadata": {
  "kernelspec": {
   "display_name": "Python 3",
   "language": "python",
   "name": "python3"
  },
  "language_info": {
   "codemirror_mode": {
    "name": "ipython",
    "version": 3
   },
   "file_extension": ".py",
   "mimetype": "text/x-python",
   "name": "python",
   "nbconvert_exporter": "python",
   "pygments_lexer": "ipython3",
   "version": "3.8.5"
  }
 },
 "nbformat": 4,
 "nbformat_minor": 4
}
